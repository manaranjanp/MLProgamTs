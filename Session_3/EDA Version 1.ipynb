{
 "cells": [
  {
   "cell_type": "markdown",
   "metadata": {},
   "source": [
    "\n",
    "# Used Car Price Exploration\n",
    "\n",
    "This notebook introduces the pandas library for data loading and prepartation and explores techniques of Exploratory Data Analysis (EDA).\n",
    "\n",
    "### Dataset\n",
    "\n",
    "**Filename**: usercarlastest.csv\n",
    "\n",
    "It is a comma separated file and there are 14 columns in the dataset.\n",
    "\n",
    "1. Id - Car's id\n",
    "2. Name - The brand and model of the car.\n",
    "3. Location - The location in which the car is being sold or is available for purchase.\n",
    "4. Year - The year or edition of the model.\n",
    "5. Kilometers_Driven - The total kilometers are driven in the car by the previous owner(s) in KM.\n",
    "6. Fuel_Type - The type of fuel used by the car. (Petrol, Diesel, Electric, CNG, LPG)\n",
    "7. Transmission - The type of transmission used by the car. (Automatic / Manual)\n",
    "8. Owner_Type - First, Second, Third, or Fourth & Above\n",
    "9. Mileage - The standard mileage offered by the car company in kmpl or km/kg\n",
    "10. Engine - The displacement volume of the engine in CC.\n",
    "11. Power - The maximum power of the engine in bhp.\n",
    "12. Seats - The number of seats in the car.\n",
    "13. New_Price - The price of a new car of the same model.\n",
    "14. Price - The price of the car (target)."
   ]
  },
  {
   "cell_type": "markdown",
   "metadata": {},
   "source": [
    "#### Importing required libraries"
   ]
  },
  {
   "cell_type": "code",
   "execution_count": null,
   "metadata": {},
   "outputs": [],
   "source": [
    "import pandas as pd\n",
    "import numpy as np"
   ]
  },
  {
   "cell_type": "markdown",
   "metadata": {},
   "source": [
    "#### Check Library Versions"
   ]
  },
  {
   "cell_type": "code",
   "execution_count": null,
   "metadata": {},
   "outputs": [],
   "source": [
    "pd.__version__"
   ]
  },
  {
   "cell_type": "code",
   "execution_count": null,
   "metadata": {},
   "outputs": [],
   "source": [
    "np.__version__"
   ]
  },
  {
   "cell_type": "markdown",
   "metadata": {},
   "source": [
    "### Loading the dataset"
   ]
  },
  {
   "cell_type": "code",
   "execution_count": null,
   "metadata": {},
   "outputs": [],
   "source": [
    "cars_df = pd.read_csv( \"./usercarlastest.csv\" )"
   ]
  },
  {
   "cell_type": "code",
   "execution_count": null,
   "metadata": {},
   "outputs": [],
   "source": [
    "type(cars_df)"
   ]
  },
  {
   "cell_type": "markdown",
   "metadata": {},
   "source": [
    "### Showing few records"
   ]
  },
  {
   "cell_type": "code",
   "execution_count": null,
   "metadata": {
    "scrolled": true
   },
   "outputs": [],
   "source": [
    "cars_df.head(5)"
   ]
  },
  {
   "cell_type": "code",
   "execution_count": null,
   "metadata": {},
   "outputs": [],
   "source": [
    "cars_df.tail(5)"
   ]
  },
  {
   "cell_type": "markdown",
   "metadata": {},
   "source": [
    "## Getting metadata"
   ]
  },
  {
   "cell_type": "code",
   "execution_count": null,
   "metadata": {},
   "outputs": [],
   "source": [
    "## Dimension of the dataset\n",
    "cars_df.shape"
   ]
  },
  {
   "cell_type": "code",
   "execution_count": null,
   "metadata": {},
   "outputs": [],
   "source": [
    "cars_df.info()"
   ]
  },
  {
   "cell_type": "markdown",
   "metadata": {},
   "source": [
    "## Indexing and Slicing\n",
    "\n",
    "Selecting specific set of rows and columns: How to slice, dice, and generally get and set subsets of pandas objects. \n",
    "\n",
    "Detailed Tutorial: https://pandas.pydata.org/pandas-docs/dev/user_guide/indexing.html"
   ]
  },
  {
   "cell_type": "code",
   "execution_count": null,
   "metadata": {},
   "outputs": [],
   "source": [
    "cars_df[4:10]"
   ]
  },
  {
   "cell_type": "code",
   "execution_count": null,
   "metadata": {},
   "outputs": [],
   "source": [
    "cars_df[-5:]"
   ]
  },
  {
   "cell_type": "code",
   "execution_count": null,
   "metadata": {},
   "outputs": [],
   "source": [
    "cars_df['Name'][0:5]"
   ]
  },
  {
   "cell_type": "code",
   "execution_count": null,
   "metadata": {},
   "outputs": [],
   "source": [
    "cols = ['Name', 'Price']\n",
    "cars_df[cols][0:5]"
   ]
  },
  {
   "cell_type": "code",
   "execution_count": null,
   "metadata": {},
   "outputs": [],
   "source": [
    "cars_df[['Name', 'Price']][0:5]"
   ]
  },
  {
   "cell_type": "markdown",
   "metadata": {},
   "source": [
    "## Sampling Records"
   ]
  },
  {
   "cell_type": "code",
   "execution_count": null,
   "metadata": {
    "scrolled": true
   },
   "outputs": [],
   "source": [
    "cars_df.sample(5)"
   ]
  },
  {
   "cell_type": "markdown",
   "metadata": {},
   "source": [
    "#### random_state in sample()\n",
    "If you pass it an integer, it will use this as a seed for a pseudo random number generator. As the name already says, the generator does not produce true randomness. It rather has an internal state (that you can get by calling np.random.get_state()) which is initialized based on a seed. When initialized by the same seed, it will reproduce the same sequence of \"random numbers\".\n",
    "\n",
    "If you pass it a RandomState it will use this (already initialized/seeded) RandomState to generate pseudo random numbers. This also allows you to get reproducible results by setting a fixed seed when initializing the RandomState and then passing this RandomState around. \n",
    "\n",
    "https://stackoverflow.com/questions/45211624/what-exactly-does-the-pandas-random-state-do"
   ]
  },
  {
   "cell_type": "code",
   "execution_count": null,
   "metadata": {},
   "outputs": [],
   "source": [
    "cars_df.sample(5, random_state=100)"
   ]
  },
  {
   "cell_type": "code",
   "execution_count": null,
   "metadata": {},
   "outputs": [],
   "source": [
    "cars_df.shape"
   ]
  },
  {
   "cell_type": "markdown",
   "metadata": {},
   "source": [
    "## Understanding distribution of variables"
   ]
  },
  {
   "cell_type": "markdown",
   "metadata": {},
   "source": [
    "## Variable Types\n",
    "\n",
    "Two variable types\n",
    "- Numerical : quantify \n",
    "   - e.g. age, salary, sales\n",
    "   - Two types\n",
    "       - Continuous\n",
    "       - Discrete : Specific values\n",
    "           - e.g. Number of dependents\n",
    "           - e.g. number of cars you own\n",
    "- Categorical : \n",
    "    - e.g Transmission, Location etc."
   ]
  },
  {
   "cell_type": "markdown",
   "metadata": {},
   "source": [
    "### What are different transmission types and how many cars are available from each transmission type (in percentages)?"
   ]
  },
  {
   "cell_type": "code",
   "execution_count": null,
   "metadata": {},
   "outputs": [],
   "source": [
    "cars_df.Transmission.unique()"
   ]
  },
  {
   "cell_type": "code",
   "execution_count": null,
   "metadata": {},
   "outputs": [],
   "source": [
    "#cars_df['Transmission'].value_counts()\n",
    "cars_df.Transmission.value_counts()"
   ]
  },
  {
   "cell_type": "code",
   "execution_count": null,
   "metadata": {},
   "outputs": [],
   "source": [
    "cars_df.Transmission.value_counts(normalize=True)*100"
   ]
  },
  {
   "cell_type": "markdown",
   "metadata": {},
   "source": [
    "### 1. Participants Exercises:\n",
    "\n",
    "- What are different owner types?\n",
    "- What percentage of cars are available from each owner type for resale?"
   ]
  },
  {
   "cell_type": "code",
   "execution_count": null,
   "metadata": {},
   "outputs": [],
   "source": [
    "#TODO by participants\n"
   ]
  },
  {
   "cell_type": "markdown",
   "metadata": {},
   "source": [
    "### Distribution of car sale price\n",
    "\n",
    "A distribution in statistics is a function that shows the possible values for a variable and how often they occur.\n",
    "\n",
    "- How many cars are sold at different price ranges? For example: cars sold in the price range of 1L - 2L, 2L - 3L etc.?"
   ]
  },
  {
   "cell_type": "markdown",
   "metadata": {},
   "source": [
    "#### Histogram for plotting Continuous Variables (Price)"
   ]
  },
  {
   "cell_type": "code",
   "execution_count": null,
   "metadata": {},
   "outputs": [],
   "source": [
    "import matplotlib.pyplot as plt\n",
    "import seaborn as sn\n",
    "\n",
    "sn.set_style(\"whitegrid\")\n",
    "sn.set_context(\"paper\")\n",
    "sn.color_palette(\"Set2\");"
   ]
  },
  {
   "cell_type": "code",
   "execution_count": null,
   "metadata": {
    "scrolled": true
   },
   "outputs": [],
   "source": [
    "plt.figure(figsize=(15,5))\n",
    "plt.hist(cars_df['Price']);\n",
    "plt.xlabel(\"Price\")\n",
    "plt.ylabel(\"Frequency\")\n",
    "plt.title(\"Histogram for Price\");"
   ]
  },
  {
   "cell_type": "markdown",
   "metadata": {},
   "source": [
    "#### Setting our own bins for the histogram"
   ]
  },
  {
   "cell_type": "code",
   "execution_count": null,
   "metadata": {},
   "outputs": [],
   "source": [
    "plt.figure(figsize=(15,5))\n",
    "hist_data = plt.hist(cars_df['Price'], bins=list(range(0, 15, 1)));\n",
    "plt.xticks(range(0, 15, 1))\n",
    "plt.xlabel(\"Price\")\n",
    "plt.ylabel(\"Frequency\")\n",
    "plt.title(\"Histogram for Price\");\n",
    "plt.savefig(\"price.png\")"
   ]
  },
  {
   "cell_type": "code",
   "execution_count": null,
   "metadata": {},
   "outputs": [],
   "source": [
    "sn.distplot(cars_df.Price, hist=False);"
   ]
  },
  {
   "cell_type": "code",
   "execution_count": null,
   "metadata": {},
   "outputs": [],
   "source": [
    "cars_df.Price.min(), cars_df.Price.max() "
   ]
  },
  {
   "cell_type": "markdown",
   "metadata": {},
   "source": [
    "#### Sort the bins by their counts"
   ]
  },
  {
   "cell_type": "code",
   "execution_count": null,
   "metadata": {},
   "outputs": [],
   "source": [
    "type(hist_data)"
   ]
  },
  {
   "cell_type": "code",
   "execution_count": null,
   "metadata": {},
   "outputs": [],
   "source": [
    "hist_data[0]"
   ]
  },
  {
   "cell_type": "code",
   "execution_count": null,
   "metadata": {},
   "outputs": [],
   "source": [
    "hist_data[1]"
   ]
  },
  {
   "cell_type": "code",
   "execution_count": null,
   "metadata": {},
   "outputs": [],
   "source": [
    "len(hist_data[1])"
   ]
  },
  {
   "cell_type": "code",
   "execution_count": null,
   "metadata": {},
   "outputs": [],
   "source": [
    "hist_data_df = pd.DataFrame( { \"lv_bins\" : hist_data[1][0:-1],\n",
    "                               \"uv_bins\" : hist_data[1][1:], \n",
    "                               \"count\" : hist_data[0] } )"
   ]
  },
  {
   "cell_type": "code",
   "execution_count": null,
   "metadata": {},
   "outputs": [],
   "source": [
    "hist_data_df.sort_values(\"count\", ascending=False)[0:10]"
   ]
  },
  {
   "cell_type": "markdown",
   "metadata": {},
   "source": [
    "### 3. Participants Exercises:\n",
    "\n",
    "- Draw a histogram for kilometer driven with each bin of size 10000km"
   ]
  },
  {
   "cell_type": "code",
   "execution_count": null,
   "metadata": {},
   "outputs": [],
   "source": [
    "#TODO by participants\n"
   ]
  },
  {
   "cell_type": "markdown",
   "metadata": {},
   "source": [
    "## What is Normal Distribution\n",
    "\n",
    "The normal distribution, also known as the Gaussian distribution, is the most important probability distribution in statistics for independent, random variables. Most people recognize its familiar bell-shaped curve in statistical reports.\n",
    "\n",
    "- The normal distribution is a continuous probability distribution that is symmetrical around its mean, most of the observations cluster around the central peak, and the probabilities for values further away from the mean taper off equally in both directions. \n",
    "- Extreme values in both tails of the distribution are similarly unlikely. While the normal distribution is symmetrical, not all symmetrical distributions are normal\n",
    "\n",
    "Source: https://statisticsbyjim.com/basics/normal-distribution/\n",
    "\n",
    "References:\n",
    "\n",
    "https://en.wikipedia.org/wiki/Normal_distribution\n",
    "\n",
    "https://courses.lumenlearning.com/math4libarts/chapter/understanding-normal-distribution/\n",
    "\n",
    "\n",
    "<img src=\"normal.png\" alt=\"Nowmal Distribution\" width=\"600\"/>"
   ]
  },
  {
   "cell_type": "markdown",
   "metadata": {},
   "source": [
    "#### Finding distribution parameters of Price\n",
    "\n",
    "https://www.cuemath.com/data/standard-deviation/"
   ]
  },
  {
   "cell_type": "code",
   "execution_count": null,
   "metadata": {},
   "outputs": [],
   "source": [
    "cars_df['Price'].mean()"
   ]
  },
  {
   "cell_type": "code",
   "execution_count": null,
   "metadata": {},
   "outputs": [],
   "source": [
    "cars_df['Price'].std()"
   ]
  },
  {
   "cell_type": "markdown",
   "metadata": {},
   "source": [
    "#### 95% of the cars were sold in which price range?"
   ]
  },
  {
   "cell_type": "code",
   "execution_count": null,
   "metadata": {},
   "outputs": [],
   "source": [
    "from scipy import stats"
   ]
  },
  {
   "cell_type": "code",
   "execution_count": null,
   "metadata": {},
   "outputs": [],
   "source": [
    "stats.norm.interval(0.95,\n",
    "                    cars_df['Price'].mean(),\n",
    "                    cars_df['Price'].std())"
   ]
  },
  {
   "cell_type": "code",
   "execution_count": null,
   "metadata": {},
   "outputs": [],
   "source": [
    "stats.norm.interval(0.997,\n",
    "                    cars_df['Price'].mean(),\n",
    "                    cars_df['Price'].std())"
   ]
  },
  {
   "cell_type": "code",
   "execution_count": null,
   "metadata": {},
   "outputs": [],
   "source": [
    "len(cars_df[cars_df.Price > 10.71])"
   ]
  },
  {
   "cell_type": "markdown",
   "metadata": {},
   "source": [
    "## Outliers\n",
    "\n",
    "- In statistics, an outlier is a data point that differs significantly from other observations.\n",
    "- An outlier may be due to variability in the measurement or it may indicate experimental error; the latter are sometimes excluded from the data set.\n",
    "- An outlier can cause serious problems in statistical analyses.\n",
    "\n",
    "Source: https://en.wikipedia.org/wiki/Outlier\n",
    "\n",
    "Using 3 standard deviation approach."
   ]
  },
  {
   "cell_type": "code",
   "execution_count": null,
   "metadata": {},
   "outputs": [],
   "source": [
    "cars_df[cars_df.Price > 10.71].shape"
   ]
  },
  {
   "cell_type": "markdown",
   "metadata": {},
   "source": [
    "### 4. Participants Exercise\n",
    "\n",
    "- Find out the mean and standard deviation of Kilometer Driven of the cars sold?\n",
    "- Any outliers in terms of Kilometer Driven?"
   ]
  },
  {
   "cell_type": "code",
   "execution_count": null,
   "metadata": {},
   "outputs": [],
   "source": [
    "cars_df['mlg'] = cars_df.Mileage.map(lambda val: float(val.split()[0]))"
   ]
  },
  {
   "cell_type": "code",
   "execution_count": null,
   "metadata": {},
   "outputs": [],
   "source": [
    "cars_df['mlg'].mean()"
   ]
  },
  {
   "cell_type": "code",
   "execution_count": null,
   "metadata": {},
   "outputs": [],
   "source": [
    "stats.norm.interval(0.997,\n",
    "                    cars_df['mlg'].mean(),\n",
    "                    cars_df['mlg'].std())"
   ]
  },
  {
   "cell_type": "code",
   "execution_count": null,
   "metadata": {},
   "outputs": [],
   "source": [
    "cars_df[cars_df.mlg > 30.54].shape"
   ]
  },
  {
   "cell_type": "markdown",
   "metadata": {},
   "source": [
    "### Using box plot\n",
    "\n",
    "- A boxplot is a standardized way of displaying the distribution of data based on a five number summary (“minimum”, first quartile (Q1), median, third quartile (Q3), and “maximum”). \n",
    "- It can tell you about your outliers and what their values are. It can also tell you if your data is symmetrical, how tightly your data is grouped, and if and how your data is skewed.\n",
    "\n",
    "- The minimum or lowest value of the dataset\n",
    "- The first quartile Q1, which represents a quarter of the way through the list of all data\n",
    "- The median of the data set, which represents the midpoint of the whole list of data\n",
    "- The third quartile Q3, which represents three-quarters of the way through the list of all data\n",
    "- The maximum or highest value of the data set.\n",
    "\n",
    "Source: https://towardsdatascience.com/understanding-boxplots-5e2df7bcbd51\n",
    "\n",
    "<img src=\"box.png\" alt=\"Nowmal Distribution\" width=\"600\"/>"
   ]
  },
  {
   "cell_type": "code",
   "execution_count": null,
   "metadata": {},
   "outputs": [],
   "source": [
    "box_info = plt.boxplot(cars_df['Price']);"
   ]
  },
  {
   "cell_type": "code",
   "execution_count": null,
   "metadata": {},
   "outputs": [],
   "source": [
    "plt.figure(figsize=(15,6))\n",
    "boxp = sn.boxplot(cars_df['Price']);"
   ]
  },
  {
   "cell_type": "code",
   "execution_count": null,
   "metadata": {},
   "outputs": [],
   "source": [
    "box_info"
   ]
  },
  {
   "cell_type": "markdown",
   "metadata": {},
   "source": [
    "#### Finding median, IQR, min and max values\n",
    "\n",
    "Range would be difficult to extrapolate otherwise. Similar to the range but less sensitive to outliers is the interquartile range. The interquartile range is calculated in much the same way as the range. All you do to find it is subtract the first quartile from the third quartile:\n",
    "\n",
    "**IQR = Q3 – Q1**\n",
    "\n",
    "Though it's not often affected much by them, the interquartile range can be used to detect outliers. This is done using these steps:\n",
    "\n",
    "\n",
    "- Calculate the interquartile range for the data.\n",
    "- Multiply the interquartile range (IQR) by 1.5 (a constant used to discern outliers).\n",
    "- Add 1.5 x (IQR) to the third quartile. Any number greater than this is a suspected outlier.\n",
    "- Subtract 1.5 x (IQR) from the first quartile. Any number less than this is a suspected outlier.\n",
    "\n",
    "Source: https://www.thoughtco.com/what-is-the-interquartile-range-rule-3126244"
   ]
  },
  {
   "cell_type": "code",
   "execution_count": null,
   "metadata": {},
   "outputs": [],
   "source": [
    "cars_df['Price'].median()"
   ]
  },
  {
   "cell_type": "code",
   "execution_count": null,
   "metadata": {},
   "outputs": [],
   "source": [
    "from scipy import stats"
   ]
  },
  {
   "cell_type": "code",
   "execution_count": null,
   "metadata": {},
   "outputs": [],
   "source": [
    "iqr = stats.iqr(cars_df['Price'])\n",
    "iqr"
   ]
  },
  {
   "cell_type": "code",
   "execution_count": null,
   "metadata": {},
   "outputs": [],
   "source": [
    "cars_df['Price'].describe()"
   ]
  },
  {
   "cell_type": "code",
   "execution_count": null,
   "metadata": {},
   "outputs": [],
   "source": [
    "min_price = cars_df['Price'].describe()['25%'] - 1.5 * iqr\n",
    "max_price = cars_df['Price'].describe()['75%'] + 1.5 * iqr"
   ]
  },
  {
   "cell_type": "code",
   "execution_count": null,
   "metadata": {},
   "outputs": [],
   "source": [
    "min_price, max_price"
   ]
  },
  {
   "cell_type": "code",
   "execution_count": null,
   "metadata": {},
   "outputs": [],
   "source": [
    "cars_df[cars_df.Price > 10.30]['Price'].shape"
   ]
  },
  {
   "cell_type": "code",
   "execution_count": null,
   "metadata": {},
   "outputs": [],
   "source": [
    "outliers_df = cars_df[cars_df.Price > 10.30]"
   ]
  },
  {
   "cell_type": "code",
   "execution_count": null,
   "metadata": {},
   "outputs": [],
   "source": [
    "outliers_df.shape"
   ]
  },
  {
   "cell_type": "code",
   "execution_count": null,
   "metadata": {},
   "outputs": [],
   "source": [
    "#sn.distplot(cars_df[cars_df.Price < 10.30]['Price']);"
   ]
  },
  {
   "cell_type": "markdown",
   "metadata": {},
   "source": [
    "### Creating new factors: Age of car\n",
    "\n",
    "This is not the actual age of the car.\n",
    "\n",
    "We are substracting the edition of the car from the year 2020."
   ]
  },
  {
   "cell_type": "code",
   "execution_count": null,
   "metadata": {},
   "outputs": [],
   "source": [
    "#TODO by participants\n"
   ]
  },
  {
   "cell_type": "code",
   "execution_count": null,
   "metadata": {},
   "outputs": [],
   "source": [
    "cars_df['age'] = 2020 - cars_df['Year']"
   ]
  },
  {
   "cell_type": "code",
   "execution_count": null,
   "metadata": {},
   "outputs": [],
   "source": [
    "plt.hist(cars_df.age);"
   ]
  },
  {
   "cell_type": "markdown",
   "metadata": {},
   "source": [
    "### 5. Participants Exercise:\n",
    "\n",
    "- Find the outliers for Age driven using box plot\n",
    "- What are the min and max values?\n",
    "- How many outliers are present?"
   ]
  },
  {
   "cell_type": "markdown",
   "metadata": {},
   "source": [
    "### Different makes and models\n",
    "\n",
    "We are assuming the first token to be the make and the second token to be the model."
   ]
  },
  {
   "cell_type": "code",
   "execution_count": null,
   "metadata": {},
   "outputs": [],
   "source": [
    "cars_df['make'] = cars_df['Name'].map( lambda x: x.lower().split()[0] )"
   ]
  },
  {
   "cell_type": "code",
   "execution_count": null,
   "metadata": {},
   "outputs": [],
   "source": [
    "cars_df.make.value_counts()"
   ]
  },
  {
   "cell_type": "code",
   "execution_count": null,
   "metadata": {},
   "outputs": [],
   "source": [
    "cars_df['model'] = cars_df['Name'].map( lambda x: x.lower().split()[1] )"
   ]
  },
  {
   "cell_type": "code",
   "execution_count": null,
   "metadata": {
    "scrolled": true
   },
   "outputs": [],
   "source": [
    "cars_df['model'].unique()"
   ]
  },
  {
   "cell_type": "code",
   "execution_count": null,
   "metadata": {},
   "outputs": [],
   "source": [
    "len(cars_df['model'].unique())"
   ]
  },
  {
   "cell_type": "markdown",
   "metadata": {},
   "source": [
    "### Find out top 10 selling models"
   ]
  },
  {
   "cell_type": "code",
   "execution_count": null,
   "metadata": {},
   "outputs": [],
   "source": [
    "top_models = cars_df['model'].value_counts().reset_index()"
   ]
  },
  {
   "cell_type": "code",
   "execution_count": null,
   "metadata": {},
   "outputs": [],
   "source": [
    "top_models"
   ]
  },
  {
   "cell_type": "code",
   "execution_count": null,
   "metadata": {},
   "outputs": [],
   "source": [
    "top_models.columns = ['model', 'count']"
   ]
  },
  {
   "cell_type": "code",
   "execution_count": null,
   "metadata": {},
   "outputs": [],
   "source": [
    "top_models[0:10]"
   ]
  },
  {
   "cell_type": "markdown",
   "metadata": {},
   "source": [
    "### Top 10 reselling makes"
   ]
  },
  {
   "cell_type": "code",
   "execution_count": null,
   "metadata": {},
   "outputs": [],
   "source": [
    "top_10_models = list(top_models['model'][0:10])"
   ]
  },
  {
   "cell_type": "code",
   "execution_count": null,
   "metadata": {},
   "outputs": [],
   "source": [
    "top_10_models"
   ]
  },
  {
   "cell_type": "code",
   "execution_count": null,
   "metadata": {},
   "outputs": [],
   "source": [
    "plt.figure(figsize=(15, 6))\n",
    "sn.countplot(data = cars_df,\n",
    "             x = 'model',\n",
    "             order = top_10_models);"
   ]
  },
  {
   "cell_type": "code",
   "execution_count": null,
   "metadata": {},
   "outputs": [],
   "source": [
    "plt.figure(figsize=(15, 6))\n",
    "sn.countplot(data = cars_df,\n",
    "             x = 'Transmission');"
   ]
  },
  {
   "cell_type": "code",
   "execution_count": null,
   "metadata": {},
   "outputs": [],
   "source": [
    "plt.figure(figsize=(15, 6))\n",
    "sn.barplot(data = top_models[0:10],\n",
    "          x = 'model',\n",
    "          y = 'count');"
   ]
  },
  {
   "cell_type": "code",
   "execution_count": null,
   "metadata": {},
   "outputs": [],
   "source": [
    "#cars_df[(cars_df.Year > 2000) & (cars_df.Year < 2005)]"
   ]
  },
  {
   "cell_type": "code",
   "execution_count": null,
   "metadata": {},
   "outputs": [],
   "source": [
    "top_makes = cars_df[cars_df.Price < 5.0]['make'].value_counts().reset_index()"
   ]
  },
  {
   "cell_type": "code",
   "execution_count": null,
   "metadata": {},
   "outputs": [],
   "source": [
    "top_makes"
   ]
  },
  {
   "cell_type": "code",
   "execution_count": null,
   "metadata": {},
   "outputs": [],
   "source": [
    "top_makes_5 = list(top_makes['index'][0:5])"
   ]
  },
  {
   "cell_type": "code",
   "execution_count": null,
   "metadata": {},
   "outputs": [],
   "source": [
    "top_makes_5"
   ]
  },
  {
   "cell_type": "code",
   "execution_count": null,
   "metadata": {},
   "outputs": [],
   "source": [
    "plt.figure(figsize=(15, 6))\n",
    "sn.countplot(data = cars_df[cars_df.Price < 5.0],\n",
    "             x = 'make',\n",
    "             order = top_makes_5);"
   ]
  },
  {
   "cell_type": "markdown",
   "metadata": {},
   "source": [
    "### 6. Participants Exercise\n",
    "\n",
    "- Plot the number of cars sold for each of years of car edition (Year) using count plot.\n",
    "- Find out top 5 makes (most number of cars sold) in used cars with sold price less than 5 lakhs."
   ]
  },
  {
   "cell_type": "markdown",
   "metadata": {},
   "source": [
    "### Rules for plotting\n",
    "\n",
    "- Single Variable (Univariate Analysis)\n",
    "\n",
    "    - Continuous -> Histogram, boxplot, distribution plot\n",
    "    - Categorical -> Count Plot/Bar Plot\n",
    "\n",
    "- Two Variables (Bivariate Analysis)\n",
    "\n",
    "    - Continuous + Categorical -> Box plot, Overlapped Distribution Plot\n",
    "    - Continuous + Continuous -> Scatter Plot, heatmap\n",
    "    - Categoical + Categorical -> Bar Plot / Count Plot, heatmap"
   ]
  },
  {
   "cell_type": "markdown",
   "metadata": {},
   "source": [
    "## Analyzing two variables"
   ]
  },
  {
   "cell_type": "markdown",
   "metadata": {},
   "source": [
    "### What is the average selling prices of top 10 models, which are less than 3 years old?"
   ]
  },
  {
   "cell_type": "code",
   "execution_count": null,
   "metadata": {},
   "outputs": [],
   "source": [
    "top_10_models_df = cars_df[(cars_df.age < 3) \n",
    "                           & (cars_df.model.isin(top_10_models))]"
   ]
  },
  {
   "cell_type": "code",
   "execution_count": null,
   "metadata": {},
   "outputs": [],
   "source": [
    "model_avg_price = top_10_models_df.groupby(\"model\")['Price'].mean()"
   ]
  },
  {
   "cell_type": "code",
   "execution_count": null,
   "metadata": {},
   "outputs": [],
   "source": [
    "model_avg_price = model_avg_price.reset_index()"
   ]
  },
  {
   "cell_type": "code",
   "execution_count": null,
   "metadata": {},
   "outputs": [],
   "source": [
    "model_avg_price.columns = ['model', 'avg_price']\n",
    "model_avg_price"
   ]
  },
  {
   "cell_type": "markdown",
   "metadata": {},
   "source": [
    "### What is distribution of sales price of cars of top 10 models, which are less than 3 years old?\n",
    "\n",
    "- What is the mean and variance of sale price across each model?"
   ]
  },
  {
   "cell_type": "code",
   "execution_count": null,
   "metadata": {},
   "outputs": [],
   "source": [
    "plt.figure(figsize=(15, 6))\n",
    "sn.boxplot(data = top_10_models_df,\n",
    "           x = 'model',\n",
    "           y = 'Price');"
   ]
  },
  {
   "cell_type": "code",
   "execution_count": null,
   "metadata": {},
   "outputs": [],
   "source": [
    "top_10_models_df[(top_10_models_df.model == 'alto')]"
   ]
  },
  {
   "cell_type": "markdown",
   "metadata": {},
   "source": [
    "### 7. Participant Exercise:\n",
    "\n",
    "- Find out the variations of sales prices of specific model SWIFT of differnt ages?"
   ]
  },
  {
   "cell_type": "code",
   "execution_count": null,
   "metadata": {},
   "outputs": [],
   "source": [
    "plt.figure(figsize=(15, 6))\n",
    "sn.boxplot(data = cars_df[cars_df.model == 'swift'],\n",
    "           x = 'age',\n",
    "           y = 'Price');"
   ]
  },
  {
   "cell_type": "markdown",
   "metadata": {},
   "source": [
    "## Find out the demand of top 10 selling models across different locations"
   ]
  },
  {
   "cell_type": "code",
   "execution_count": null,
   "metadata": {},
   "outputs": [],
   "source": [
    "top_10_models_df = cars_df[cars_df.model.isin(top_10_models)]\n",
    "models_ct = pd.crosstab(top_10_models_df.Location,\n",
    "                        top_10_models_df.model,\n",
    "                        normalize = 'index') * 100"
   ]
  },
  {
   "cell_type": "code",
   "execution_count": null,
   "metadata": {},
   "outputs": [],
   "source": [
    "models_ct"
   ]
  },
  {
   "cell_type": "code",
   "execution_count": null,
   "metadata": {},
   "outputs": [],
   "source": [
    "plt.figure(figsize=(10, 8))\n",
    "sn.heatmapap(models_ct, annot=True, fmt = \"0.2f\", cmap=\"YlGnBu\");"
   ]
  },
  {
   "cell_type": "code",
   "execution_count": null,
   "metadata": {},
   "outputs": [],
   "source": [
    "top_10_models_df.shape"
   ]
  },
  {
   "cell_type": "markdown",
   "metadata": {},
   "source": [
    "### 8. Participants Exercise:\n",
    "\n",
    "- Find out the demand for petrol and diesel cars across top 10 selling models"
   ]
  },
  {
   "cell_type": "code",
   "execution_count": null,
   "metadata": {},
   "outputs": [],
   "source": [
    "top_10_models_df = cars_df[cars_df.model.isin(top_10_models)]\n",
    "models_ct = pd.crosstab(top_10_models_df.model,\n",
    "                        top_10_models_df.Fuel_Type,\n",
    "                        normalize = 'index') * 100"
   ]
  },
  {
   "cell_type": "code",
   "execution_count": null,
   "metadata": {},
   "outputs": [],
   "source": [
    "models_ct"
   ]
  },
  {
   "cell_type": "code",
   "execution_count": null,
   "metadata": {},
   "outputs": [],
   "source": [
    "plt.figure(figsize=(3, 12))\n",
    "sn.heatmap(models_ct, annot=True, fmt = \"0.2f\", cmap=\"YlGnBu\");"
   ]
  },
  {
   "cell_type": "markdown",
   "metadata": {},
   "source": [
    "## Converting datatypes of columns\n",
    "\n",
    "Engine capacity, power and mileage are not numerical values. We need to convert them to numerical values for analysis."
   ]
  },
  {
   "cell_type": "code",
   "execution_count": null,
   "metadata": {},
   "outputs": [],
   "source": [
    "cars_df.info()"
   ]
  },
  {
   "cell_type": "code",
   "execution_count": null,
   "metadata": {},
   "outputs": [],
   "source": [
    "cars_df[0:10]"
   ]
  },
  {
   "cell_type": "code",
   "execution_count": null,
   "metadata": {},
   "outputs": [],
   "source": [
    "import math"
   ]
  },
  {
   "cell_type": "code",
   "execution_count": null,
   "metadata": {},
   "outputs": [],
   "source": [
    "def get_float_val(x):\n",
    "    if x is None:\n",
    "        return None   \n",
    "    \n",
    "    val = str(x).split()[0]\n",
    "    \n",
    "    if val.replace(\".\",\"\",1).isdigit():\n",
    "        return float(val)        \n",
    "    else:\n",
    "        return None"
   ]
  },
  {
   "cell_type": "code",
   "execution_count": null,
   "metadata": {},
   "outputs": [],
   "source": [
    "cars_df['mileage_new'] = cars_df.Mileage.map(lambda x: get_float_val(x))"
   ]
  },
  {
   "cell_type": "code",
   "execution_count": null,
   "metadata": {},
   "outputs": [],
   "source": [
    "cars_df.mileage_new"
   ]
  },
  {
   "cell_type": "code",
   "execution_count": null,
   "metadata": {},
   "outputs": [],
   "source": [
    "cars_df['engine_new'] = cars_df.Engine.map(lambda x: get_float_val(x))\n",
    "cars_df['power_new'] = cars_df.Power.map(lambda x: get_float_val(x))"
   ]
  },
  {
   "cell_type": "code",
   "execution_count": null,
   "metadata": {
    "scrolled": false
   },
   "outputs": [],
   "source": [
    "cars_df.info()"
   ]
  },
  {
   "cell_type": "markdown",
   "metadata": {},
   "source": [
    "## Finding correlation between two numerial variables\n",
    "\n",
    "Correlation is a statistical measure that expresses the extent to which two variables are linearly related (meaning they change together at a constant rate). It’s a common tool for describing simple relationships without making a statement about cause and effect.\n",
    "\n",
    "We describe correlations with a unit-free measure called the correlation coefficient which ranges from -1 to +1 and is denoted by r. \n",
    "\n",
    "- The closer r is to zero, the weaker the linear relationship.\n",
    "- Positive r values indicate a positive correlation, where the values of both variables tend to increase together.\n",
    "- Negative r values indicate a negative correlation, where the values of one variable tend to increase when the values of the other variable decrease.\n",
    "\n",
    "Source: https://www.jmp.com/en_in/statistics-knowledge-portal/what-is-correlation.html"
   ]
  },
  {
   "cell_type": "markdown",
   "metadata": {},
   "source": [
    "### How engine power and mileage is effecting price of the used cars?"
   ]
  },
  {
   "cell_type": "code",
   "execution_count": null,
   "metadata": {},
   "outputs": [],
   "source": [
    "sn.lmplot(data = cars_df.sample(100),\n",
    "          x = 'power_new',\n",
    "          y = 'Price');"
   ]
  },
  {
   "cell_type": "code",
   "execution_count": null,
   "metadata": {},
   "outputs": [],
   "source": [
    "sn.lmplot(data = cars_df.sample(200),\n",
    "          x = 'mileage_new',\n",
    "          y = 'Price');"
   ]
  },
  {
   "cell_type": "markdown",
   "metadata": {},
   "source": [
    "### 9. Participants Exercise:\n",
    "\n",
    "- Find out the correlation between \n",
    "    - engine capacity and price\n",
    "    - Kilometer driven and price"
   ]
  },
  {
   "cell_type": "code",
   "execution_count": null,
   "metadata": {},
   "outputs": [],
   "source": [
    "sn.lmplot(data = cars_df.sample(100),\n",
    "          x = 'engine_new',\n",
    "          y = 'Price');"
   ]
  },
  {
   "cell_type": "markdown",
   "metadata": {},
   "source": [
    "### Finding corrleation between multiple variables (numerical)"
   ]
  },
  {
   "cell_type": "code",
   "execution_count": null,
   "metadata": {},
   "outputs": [],
   "source": [
    "corr_mat = cars_df[['Price', \n",
    "                    'mileage_new', \n",
    "                    'engine_new', \n",
    "                    'power_new', \n",
    "                    'Kilometers_Driven',\n",
    "                    'age']].corr()"
   ]
  },
  {
   "cell_type": "code",
   "execution_count": null,
   "metadata": {},
   "outputs": [],
   "source": [
    "corr_mat"
   ]
  },
  {
   "cell_type": "code",
   "execution_count": null,
   "metadata": {},
   "outputs": [],
   "source": [
    "sn.heatmap(corr_mat,\n",
    "           annot=True,\n",
    "           vmin = -1.0,\n",
    "           vmax = 1.0,\n",
    "           cmap = sn.diverging_palette(240, 10));"
   ]
  },
  {
   "cell_type": "markdown",
   "metadata": {},
   "source": [
    "#### Inferences\n",
    "\n",
    "- Price, Kilometers_Driven are negative correlated to price\n",
    "- engine capacity and power are positively correlatd to price"
   ]
  },
  {
   "cell_type": "markdown",
   "metadata": {},
   "source": [
    "### Changing the Unit of KM Driven"
   ]
  },
  {
   "cell_type": "code",
   "execution_count": null,
   "metadata": {},
   "outputs": [],
   "source": [
    "cars_df.Kilometers_Driven"
   ]
  },
  {
   "cell_type": "code",
   "execution_count": null,
   "metadata": {},
   "outputs": [],
   "source": [
    "cars_df['KM_Driven'] = cars_df['Kilometers_Driven'].map(lambda x: int(x/1000))"
   ]
  },
  {
   "cell_type": "code",
   "execution_count": null,
   "metadata": {},
   "outputs": [],
   "source": [
    "cars_df['KM_Driven']"
   ]
  },
  {
   "cell_type": "code",
   "execution_count": null,
   "metadata": {},
   "outputs": [],
   "source": [
    "cars_df.columns"
   ]
  },
  {
   "cell_type": "markdown",
   "metadata": {},
   "source": [
    "### Drop the columns not required\n",
    "\n",
    "- Drop the following columns\n",
    "    - index, Name, Year, Kilometers_Driven, Mileage, Engine, Power, New_Price"
   ]
  },
  {
   "cell_type": "code",
   "execution_count": null,
   "metadata": {},
   "outputs": [],
   "source": [
    "cols_to_be_dropped = [\"New_Price\",\n",
    "                      \"index\",\n",
    "                      \"Name\",\n",
    "                      \"Year\", \n",
    "                      \"Kilometers_Driven\", \n",
    "                      \"Mileage\", \n",
    "                      \"Engine\", \n",
    "                      \"Power\"]                      "
   ]
  },
  {
   "cell_type": "code",
   "execution_count": null,
   "metadata": {},
   "outputs": [],
   "source": [
    "new_cars_df = cars_df.drop(cols_to_be_dropped, axis = 1)"
   ]
  },
  {
   "cell_type": "code",
   "execution_count": null,
   "metadata": {},
   "outputs": [],
   "source": [
    "new_cars_df"
   ]
  },
  {
   "cell_type": "markdown",
   "metadata": {},
   "source": [
    "### Saving the dataset (with new features) "
   ]
  },
  {
   "cell_type": "code",
   "execution_count": null,
   "metadata": {},
   "outputs": [],
   "source": [
    "new_cars_df.to_csv( \"new_used_car.csv\", index = False)"
   ]
  }
 ],
 "metadata": {
  "kernelspec": {
   "display_name": "Python 3",
   "language": "python",
   "name": "python3"
  },
  "language_info": {
   "codemirror_mode": {
    "name": "ipython",
    "version": 3
   },
   "file_extension": ".py",
   "mimetype": "text/x-python",
   "name": "python",
   "nbconvert_exporter": "python",
   "pygments_lexer": "ipython3",
   "version": "3.8.3"
  }
 },
 "nbformat": 4,
 "nbformat_minor": 4
}
