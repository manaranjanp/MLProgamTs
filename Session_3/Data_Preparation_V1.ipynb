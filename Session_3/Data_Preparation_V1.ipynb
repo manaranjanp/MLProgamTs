{
 "cells": [
  {
   "cell_type": "markdown",
   "metadata": {},
   "source": [
    "#### This articles explains some of the typical steps followed for data cleaning, imputation & preparation.\n",
    "\n",
    "#### The topics covered:\n",
    "\n",
    "* Visualizing missing data elements\n",
    "* Finding relationship between missing data elements\n",
    "* Removing missing data rows from dataset\n",
    "* Populating missing values with multiple imputation strategies like mean or median or most_frequent\n",
    "* Exploring missing values and populating with custom functions\n",
    "* Encoding categorical features\n",
    "* Transforming variables using scaling and normalization\n",
    "* Binning numerical data into categories\n",
    "* Preparing data for building models\n",
    "* Splitting datasets into train and test datasets"
   ]
  },
  {
   "cell_type": "markdown",
   "metadata": {},
   "source": [
    "## Importing pandas and numpy library"
   ]
  },
  {
   "cell_type": "code",
   "execution_count": 2,
   "metadata": {},
   "outputs": [],
   "source": [
    "import numpy as np\n",
    "import pandas as pd"
   ]
  },
  {
   "cell_type": "code",
   "execution_count": 3,
   "metadata": {},
   "outputs": [],
   "source": [
    "import warnings\n",
    "\n",
    "warnings.filterwarnings(\"ignore\")"
   ]
  },
  {
   "cell_type": "markdown",
   "metadata": {},
   "source": [
    "## Dataset\n",
    "\n",
    "* A census dataset is available at [github](https://github.com/WinVector/zmPDSwR/blob/master/Custdata/custdata2.tsv), which will be used for demonstrating the steps of data cleaning, imputation and prepartion.\n",
    "\n",
    "* The dataset contains information about customers like gender, if he or she is currently employed or not, income, marital status, house type where he or she lives, whether moved in recently, number of vehicles owned, age and state of residence. Also, the data contains whether he or she has an insurance cover. This dataset can be used to build a model predict income or whether a person has an insurance coverage or not. But before the models can be built, there could be numerous data challenges like missing data and data transformation. This artile gives an hands on approach to take this dataset and make it ready for building a model.  "
   ]
  },
  {
   "cell_type": "markdown",
   "metadata": {},
   "source": [
    "### Read the dataset, which is in tsv format"
   ]
  },
  {
   "cell_type": "code",
   "execution_count": 4,
   "metadata": {},
   "outputs": [],
   "source": [
    "custdata = pd.read_csv(\"custdata.tsv\", sep = \"\\t\")"
   ]
  },
  {
   "cell_type": "code",
   "execution_count": 5,
   "metadata": {},
   "outputs": [
    {
     "data": {
      "text/html": [
       "<div>\n",
       "<style scoped>\n",
       "    .dataframe tbody tr th:only-of-type {\n",
       "        vertical-align: middle;\n",
       "    }\n",
       "\n",
       "    .dataframe tbody tr th {\n",
       "        vertical-align: top;\n",
       "    }\n",
       "\n",
       "    .dataframe thead th {\n",
       "        text-align: right;\n",
       "    }\n",
       "</style>\n",
       "<table border=\"1\" class=\"dataframe\">\n",
       "  <thead>\n",
       "    <tr style=\"text-align: right;\">\n",
       "      <th></th>\n",
       "      <th>custid</th>\n",
       "      <th>sex</th>\n",
       "      <th>is.employed</th>\n",
       "      <th>income</th>\n",
       "      <th>marital.stat</th>\n",
       "      <th>health.ins</th>\n",
       "      <th>housing.type</th>\n",
       "      <th>recent.move</th>\n",
       "      <th>num.vehicles</th>\n",
       "      <th>age</th>\n",
       "      <th>state.of.res</th>\n",
       "    </tr>\n",
       "  </thead>\n",
       "  <tbody>\n",
       "    <tr>\n",
       "      <th>0</th>\n",
       "      <td>2068</td>\n",
       "      <td>F</td>\n",
       "      <td>NaN</td>\n",
       "      <td>11300</td>\n",
       "      <td>Married</td>\n",
       "      <td>True</td>\n",
       "      <td>Homeowner free and clear</td>\n",
       "      <td>False</td>\n",
       "      <td>2.0</td>\n",
       "      <td>49</td>\n",
       "      <td>Michigan</td>\n",
       "    </tr>\n",
       "    <tr>\n",
       "      <th>1</th>\n",
       "      <td>2848</td>\n",
       "      <td>M</td>\n",
       "      <td>True</td>\n",
       "      <td>4500</td>\n",
       "      <td>Never Married</td>\n",
       "      <td>False</td>\n",
       "      <td>Rented</td>\n",
       "      <td>True</td>\n",
       "      <td>3.0</td>\n",
       "      <td>22</td>\n",
       "      <td>Georgia</td>\n",
       "    </tr>\n",
       "    <tr>\n",
       "      <th>2</th>\n",
       "      <td>5641</td>\n",
       "      <td>M</td>\n",
       "      <td>True</td>\n",
       "      <td>20000</td>\n",
       "      <td>Never Married</td>\n",
       "      <td>False</td>\n",
       "      <td>Occupied with no rent</td>\n",
       "      <td>False</td>\n",
       "      <td>0.0</td>\n",
       "      <td>22</td>\n",
       "      <td>New Mexico</td>\n",
       "    </tr>\n",
       "  </tbody>\n",
       "</table>\n",
       "</div>"
      ],
      "text/plain": [
       "   custid sex is.employed  income   marital.stat  health.ins  \\\n",
       "0    2068   F         NaN   11300        Married        True   \n",
       "1    2848   M        True    4500  Never Married       False   \n",
       "2    5641   M        True   20000  Never Married       False   \n",
       "\n",
       "               housing.type recent.move  num.vehicles  age state.of.res  \n",
       "0  Homeowner free and clear       False           2.0   49     Michigan  \n",
       "1                    Rented        True           3.0   22      Georgia  \n",
       "2     Occupied with no rent       False           0.0   22   New Mexico  "
      ]
     },
     "execution_count": 5,
     "metadata": {},
     "output_type": "execute_result"
    }
   ],
   "source": [
    "custdata.head( 3 )"
   ]
  },
  {
   "cell_type": "markdown",
   "metadata": {},
   "source": [
    "### Check dataset dimensions.. how many row and columns?"
   ]
  },
  {
   "cell_type": "code",
   "execution_count": 6,
   "metadata": {},
   "outputs": [
    {
     "data": {
      "text/plain": [
       "(910, 11)"
      ]
     },
     "execution_count": 6,
     "metadata": {},
     "output_type": "execute_result"
    }
   ],
   "source": [
    "custdata.shape"
   ]
  },
  {
   "cell_type": "markdown",
   "metadata": {},
   "source": [
    "### List column names"
   ]
  },
  {
   "cell_type": "code",
   "execution_count": 7,
   "metadata": {},
   "outputs": [
    {
     "data": {
      "text/plain": [
       "Index(['custid', 'sex', 'is.employed', 'income', 'marital.stat', 'health.ins',\n",
       "       'housing.type', 'recent.move', 'num.vehicles', 'age', 'state.of.res'],\n",
       "      dtype='object')"
      ]
     },
     "execution_count": 7,
     "metadata": {},
     "output_type": "execute_result"
    }
   ],
   "source": [
    "custdata.columns"
   ]
  },
  {
   "cell_type": "markdown",
   "metadata": {},
   "source": [
    "### Print column names and types"
   ]
  },
  {
   "cell_type": "code",
   "execution_count": 8,
   "metadata": {},
   "outputs": [
    {
     "data": {
      "text/plain": [
       "custid            int64\n",
       "sex              object\n",
       "is.employed      object\n",
       "income            int64\n",
       "marital.stat     object\n",
       "health.ins         bool\n",
       "housing.type     object\n",
       "recent.move      object\n",
       "num.vehicles    float64\n",
       "age               int64\n",
       "state.of.res     object\n",
       "dtype: object"
      ]
     },
     "execution_count": 8,
     "metadata": {},
     "output_type": "execute_result"
    }
   ],
   "source": [
    "custdata.dtypes"
   ]
  },
  {
   "cell_type": "markdown",
   "metadata": {},
   "source": [
    "### More information with info() command\n",
    "\n",
    "#### How many total entries? What are the columns and their types. Each column has how many not-null values?"
   ]
  },
  {
   "cell_type": "code",
   "execution_count": 9,
   "metadata": {},
   "outputs": [
    {
     "name": "stdout",
     "output_type": "stream",
     "text": [
      "<class 'pandas.core.frame.DataFrame'>\n",
      "RangeIndex: 910 entries, 0 to 909\n",
      "Data columns (total 11 columns):\n",
      " #   Column        Non-Null Count  Dtype  \n",
      "---  ------        --------------  -----  \n",
      " 0   custid        910 non-null    int64  \n",
      " 1   sex           910 non-null    object \n",
      " 2   is.employed   655 non-null    object \n",
      " 3   income        910 non-null    int64  \n",
      " 4   marital.stat  910 non-null    object \n",
      " 5   health.ins    910 non-null    bool   \n",
      " 6   housing.type  879 non-null    object \n",
      " 7   recent.move   879 non-null    object \n",
      " 8   num.vehicles  879 non-null    float64\n",
      " 9   age           910 non-null    int64  \n",
      " 10  state.of.res  910 non-null    object \n",
      "dtypes: bool(1), float64(1), int64(3), object(6)\n",
      "memory usage: 72.1+ KB\n"
     ]
    }
   ],
   "source": [
    "custdata.info()"
   ]
  },
  {
   "cell_type": "markdown",
   "metadata": {},
   "source": [
    "#### Note:\n",
    "\n",
    "* It can be observed that some of the columns like *is.employed*, *housing.type*, *recent.move* and *num.vehicles* have missing values."
   ]
  },
  {
   "cell_type": "markdown",
   "metadata": {},
   "source": [
    "## Visualize the missing values\n",
    "\n",
    "* There are libaries like **missingno** are available for visualizing missing values and if any relationship exist between these missing values like if one is missing the other is also missing. \n",
    "\n",
    "* *missingno* can be installed through *pip*\n",
    "    - pip install missingno"
   ]
  },
  {
   "cell_type": "code",
   "execution_count": 10,
   "metadata": {},
   "outputs": [],
   "source": [
    "import matplotlib.pyplot as plt\n",
    "import seaborn as sn\n",
    "%matplotlib inline\n",
    "import missingno as msno"
   ]
  },
  {
   "cell_type": "code",
   "execution_count": 11,
   "metadata": {},
   "outputs": [
    {
     "data": {
      "image/png": "[encoded data removed]",
      "text/plain": [
       "<Figure size 1800x720 with 2 Axes>"
      ]
     },
     "metadata": {
      "needs_background": "light"
     },
     "output_type": "display_data"
    }
   ],
   "source": [
    "msno.matrix(custdata);"
   ]
  },
  {
   "cell_type": "markdown",
   "metadata": {},
   "source": [
    "#### Note:\n",
    "\n",
    "* *is.employed* is missing from may observations. *housing.type*, *recent.move* and *num.vehicles* are also missing from some observations, but there seems to be some pattern to it. We can create a heatmap of these missing values and confirm this pattern."
   ]
  },
  {
   "cell_type": "markdown",
   "metadata": {},
   "source": [
    "### Count or percentage of missing values"
   ]
  },
  {
   "cell_type": "code",
   "execution_count": 12,
   "metadata": {},
   "outputs": [
    {
     "data": {
      "text/plain": [
       "custid            0\n",
       "sex               0\n",
       "is.employed     255\n",
       "income            0\n",
       "marital.stat      0\n",
       "health.ins        0\n",
       "housing.type     31\n",
       "recent.move      31\n",
       "num.vehicles     31\n",
       "age               0\n",
       "state.of.res      0\n",
       "dtype: int64"
      ]
     },
     "execution_count": 12,
     "metadata": {},
     "output_type": "execute_result"
    }
   ],
   "source": [
    "custdata.isnull().sum(axis=0)"
   ]
  },
  {
   "cell_type": "code",
   "execution_count": 13,
   "metadata": {},
   "outputs": [
    {
     "data": {
      "image/png": "[encoded data removed]",
      "text/plain": [
       "<Figure size 1800x720 with 3 Axes>"
      ]
     },
     "metadata": {
      "needs_background": "light"
     },
     "output_type": "display_data"
    }
   ],
   "source": [
    "msno.bar(custdata);"
   ]
  },
  {
   "cell_type": "markdown",
   "metadata": {
    "collapsed": true
   },
   "source": [
    "## Why data is missing?\n",
    "\n",
    "* There can be multiple reasons, why data is missing.\n",
    "\n",
    "    * Data is not available at the time of capturing\n",
    "    * It could be recording error, left empty intentionally or unintentionally\n",
    "\n",
    "* In this example, quite a lot of observations have missing data in *is.employed* column. \n",
    "\n",
    "* This may be either because the person does not have an active/ full time job. So, at the time of capturing, it was not sure weather to capture it as an employment or not.\n",
    "\n",
    "* So, there are multiple steps that can be taken\n",
    "\n",
    "    1. Remove the rows from the dataset\n",
    "    2. Impute the column as not employed i.e. false.\n",
    "    3. Impute with most occurring values or average values\n",
    "    4. Look at the missing column with respect to other columns data to infer any relationships.\n",
    "\n",
    "* We can look at this column in relation to the income and age. We can assume people to be employed if they have some income."
   ]
  },
  {
   "cell_type": "markdown",
   "metadata": {},
   "source": [
    "### Remove Null values from dataset\n",
    "\n",
    "* All columns with null values can be removed from the dataset. Remove all observations where at least one data element is missing. "
   ]
  },
  {
   "cell_type": "code",
   "execution_count": 14,
   "metadata": {},
   "outputs": [],
   "source": [
    "cust_clean = custdata.dropna()"
   ]
  },
  {
   "cell_type": "code",
   "execution_count": 15,
   "metadata": {},
   "outputs": [
    {
     "data": {
      "text/plain": [
       "<AxesSubplot:>"
      ]
     },
     "execution_count": 15,
     "metadata": {},
     "output_type": "execute_result"
    },
    {
     "data": {
      "image/png": "[encoded data removed]",
      "text/plain": [
       "<Figure size 1800x720 with 2 Axes>"
      ]
     },
     "metadata": {
      "needs_background": "light"
     },
     "output_type": "display_data"
    }
   ],
   "source": [
    "msno.matrix(cust_clean)"
   ]
  },
  {
   "cell_type": "markdown",
   "metadata": {},
   "source": [
    "### Remove null values of a specific column\n",
    "\n",
    "* For example, only removing those observations where *is.employed* data is missing."
   ]
  },
  {
   "cell_type": "code",
   "execution_count": 16,
   "metadata": {},
   "outputs": [],
   "source": [
    "cust_clean = custdata.dropna(subset=['is.employed'])"
   ]
  },
  {
   "cell_type": "code",
   "execution_count": 17,
   "metadata": {},
   "outputs": [
    {
     "data": {
      "image/png": "[encoded data removed]",
      "text/plain": [
       "<Figure size 1800x720 with 2 Axes>"
      ]
     },
     "metadata": {
      "needs_background": "light"
     },
     "output_type": "display_data"
    }
   ],
   "source": [
    "msno.matrix(cust_clean);"
   ]
  },
  {
   "cell_type": "markdown",
   "metadata": {},
   "source": [
    "### Impute Null values\n",
    "\n",
    "* Replace all null values in *is.employed* column with False "
   ]
  },
  {
   "cell_type": "code",
   "execution_count": 18,
   "metadata": {},
   "outputs": [],
   "source": [
    "custdata['is.employed_IS1'] = custdata['is.employed'].fillna(True)"
   ]
  },
  {
   "cell_type": "code",
   "execution_count": 19,
   "metadata": {},
   "outputs": [
    {
     "data": {
      "image/png": "[encoded data removed]",
      "text/plain": [
       "<Figure size 1800x720 with 2 Axes>"
      ]
     },
     "metadata": {
      "needs_background": "light"
     },
     "output_type": "display_data"
    }
   ],
   "source": [
    "msno.matrix(custdata);"
   ]
  },
  {
   "cell_type": "markdown",
   "metadata": {},
   "source": [
    "### Imputing with most occurring value \n",
    "\n",
    "* Replace with most occurring value.\n"
   ]
  },
  {
   "cell_type": "code",
   "execution_count": 27,
   "metadata": {},
   "outputs": [],
   "source": [
    "from sklearn.impute import SimpleImputer\n",
    "\n",
    "imp = SimpleImputer(strategy='most_frequent')\n",
    "\n",
    "imp_col = imp.fit_transform(custdata[['is.employed']])"
   ]
  },
  {
   "cell_type": "code",
   "execution_count": 28,
   "metadata": {},
   "outputs": [
    {
     "data": {
      "text/html": [
       "<div>\n",
       "<style scoped>\n",
       "    .dataframe tbody tr th:only-of-type {\n",
       "        vertical-align: middle;\n",
       "    }\n",
       "\n",
       "    .dataframe tbody tr th {\n",
       "        vertical-align: top;\n",
       "    }\n",
       "\n",
       "    .dataframe thead th {\n",
       "        text-align: right;\n",
       "    }\n",
       "</style>\n",
       "<table border=\"1\" class=\"dataframe\">\n",
       "  <thead>\n",
       "    <tr style=\"text-align: right;\">\n",
       "      <th></th>\n",
       "      <th>is.employed</th>\n",
       "      <th>is.employed_IS2</th>\n",
       "    </tr>\n",
       "  </thead>\n",
       "  <tbody>\n",
       "    <tr>\n",
       "      <th>0</th>\n",
       "      <td>NaN</td>\n",
       "      <td>True</td>\n",
       "    </tr>\n",
       "    <tr>\n",
       "      <th>1</th>\n",
       "      <td>True</td>\n",
       "      <td>True</td>\n",
       "    </tr>\n",
       "    <tr>\n",
       "      <th>2</th>\n",
       "      <td>True</td>\n",
       "      <td>True</td>\n",
       "    </tr>\n",
       "    <tr>\n",
       "      <th>3</th>\n",
       "      <td>True</td>\n",
       "      <td>True</td>\n",
       "    </tr>\n",
       "    <tr>\n",
       "      <th>4</th>\n",
       "      <td>True</td>\n",
       "      <td>True</td>\n",
       "    </tr>\n",
       "    <tr>\n",
       "      <th>5</th>\n",
       "      <td>True</td>\n",
       "      <td>True</td>\n",
       "    </tr>\n",
       "    <tr>\n",
       "      <th>6</th>\n",
       "      <td>True</td>\n",
       "      <td>True</td>\n",
       "    </tr>\n",
       "    <tr>\n",
       "      <th>7</th>\n",
       "      <td>NaN</td>\n",
       "      <td>True</td>\n",
       "    </tr>\n",
       "    <tr>\n",
       "      <th>8</th>\n",
       "      <td>True</td>\n",
       "      <td>True</td>\n",
       "    </tr>\n",
       "    <tr>\n",
       "      <th>9</th>\n",
       "      <td>NaN</td>\n",
       "      <td>True</td>\n",
       "    </tr>\n",
       "  </tbody>\n",
       "</table>\n",
       "</div>"
      ],
      "text/plain": [
       "  is.employed  is.employed_IS2\n",
       "0         NaN             True\n",
       "1        True             True\n",
       "2        True             True\n",
       "3        True             True\n",
       "4        True             True\n",
       "5        True             True\n",
       "6        True             True\n",
       "7         NaN             True\n",
       "8        True             True\n",
       "9         NaN             True"
      ]
     },
     "execution_count": 28,
     "metadata": {},
     "output_type": "execute_result"
    }
   ],
   "source": [
    "custdata[[\"is.employed\", \"is.employed_IS2\"]][0:10]"
   ]
  },
  {
   "cell_type": "markdown",
   "metadata": {},
   "source": [
    "### Why the fields are null?\n",
    "\n",
    "* Are the fields missing in certain scenarios. Can we infer the value of these fields from values of other existing columns in those observations. We can explore and find out. This will need prior knowledge of the data and the domain."
   ]
  },
  {
   "cell_type": "code",
   "execution_count": 29,
   "metadata": {},
   "outputs": [],
   "source": [
    "cust_employed_null = custdata[ custdata[\"is.employed\"].isnull() ]"
   ]
  },
  {
   "cell_type": "code",
   "execution_count": 30,
   "metadata": {},
   "outputs": [
    {
     "data": {
      "text/html": [
       "<div>\n",
       "<style scoped>\n",
       "    .dataframe tbody tr th:only-of-type {\n",
       "        vertical-align: middle;\n",
       "    }\n",
       "\n",
       "    .dataframe tbody tr th {\n",
       "        vertical-align: top;\n",
       "    }\n",
       "\n",
       "    .dataframe thead th {\n",
       "        text-align: right;\n",
       "    }\n",
       "</style>\n",
       "<table border=\"1\" class=\"dataframe\">\n",
       "  <thead>\n",
       "    <tr style=\"text-align: right;\">\n",
       "      <th></th>\n",
       "      <th>custid</th>\n",
       "      <th>sex</th>\n",
       "      <th>is.employed</th>\n",
       "      <th>income</th>\n",
       "      <th>marital.stat</th>\n",
       "      <th>health.ins</th>\n",
       "      <th>housing.type</th>\n",
       "      <th>recent.move</th>\n",
       "      <th>num.vehicles</th>\n",
       "      <th>age</th>\n",
       "      <th>state.of.res</th>\n",
       "      <th>is.employed_IS1</th>\n",
       "      <th>is.employed_IS2</th>\n",
       "    </tr>\n",
       "  </thead>\n",
       "  <tbody>\n",
       "    <tr>\n",
       "      <th>0</th>\n",
       "      <td>2068</td>\n",
       "      <td>F</td>\n",
       "      <td>NaN</td>\n",
       "      <td>11300</td>\n",
       "      <td>Married</td>\n",
       "      <td>True</td>\n",
       "      <td>Homeowner free and clear</td>\n",
       "      <td>False</td>\n",
       "      <td>2.0</td>\n",
       "      <td>49</td>\n",
       "      <td>Michigan</td>\n",
       "      <td>True</td>\n",
       "      <td>True</td>\n",
       "    </tr>\n",
       "    <tr>\n",
       "      <th>7</th>\n",
       "      <td>14989</td>\n",
       "      <td>M</td>\n",
       "      <td>NaN</td>\n",
       "      <td>9400</td>\n",
       "      <td>Married</td>\n",
       "      <td>True</td>\n",
       "      <td>Rented</td>\n",
       "      <td>False</td>\n",
       "      <td>2.0</td>\n",
       "      <td>44</td>\n",
       "      <td>Illinois</td>\n",
       "      <td>True</td>\n",
       "      <td>True</td>\n",
       "    </tr>\n",
       "    <tr>\n",
       "      <th>9</th>\n",
       "      <td>16551</td>\n",
       "      <td>F</td>\n",
       "      <td>NaN</td>\n",
       "      <td>7000</td>\n",
       "      <td>Married</td>\n",
       "      <td>True</td>\n",
       "      <td>Homeowner with mortgage/loan</td>\n",
       "      <td>False</td>\n",
       "      <td>2.0</td>\n",
       "      <td>46</td>\n",
       "      <td>Georgia</td>\n",
       "      <td>True</td>\n",
       "      <td>True</td>\n",
       "    </tr>\n",
       "    <tr>\n",
       "      <th>15</th>\n",
       "      <td>25863</td>\n",
       "      <td>M</td>\n",
       "      <td>NaN</td>\n",
       "      <td>41000</td>\n",
       "      <td>Divorced/Separated</td>\n",
       "      <td>True</td>\n",
       "      <td>Homeowner with mortgage/loan</td>\n",
       "      <td>False</td>\n",
       "      <td>1.0</td>\n",
       "      <td>70</td>\n",
       "      <td>Virginia</td>\n",
       "      <td>True</td>\n",
       "      <td>True</td>\n",
       "    </tr>\n",
       "    <tr>\n",
       "      <th>18</th>\n",
       "      <td>27214</td>\n",
       "      <td>M</td>\n",
       "      <td>NaN</td>\n",
       "      <td>18800</td>\n",
       "      <td>Married</td>\n",
       "      <td>True</td>\n",
       "      <td>Homeowner free and clear</td>\n",
       "      <td>False</td>\n",
       "      <td>2.0</td>\n",
       "      <td>68</td>\n",
       "      <td>Ohio</td>\n",
       "      <td>True</td>\n",
       "      <td>True</td>\n",
       "    </tr>\n",
       "    <tr>\n",
       "      <th>28</th>\n",
       "      <td>38827</td>\n",
       "      <td>F</td>\n",
       "      <td>NaN</td>\n",
       "      <td>9700</td>\n",
       "      <td>Married</td>\n",
       "      <td>True</td>\n",
       "      <td>Homeowner with mortgage/loan</td>\n",
       "      <td>False</td>\n",
       "      <td>2.0</td>\n",
       "      <td>72</td>\n",
       "      <td>Oklahoma</td>\n",
       "      <td>True</td>\n",
       "      <td>True</td>\n",
       "    </tr>\n",
       "    <tr>\n",
       "      <th>30</th>\n",
       "      <td>40449</td>\n",
       "      <td>M</td>\n",
       "      <td>NaN</td>\n",
       "      <td>13000</td>\n",
       "      <td>Married</td>\n",
       "      <td>True</td>\n",
       "      <td>Homeowner free and clear</td>\n",
       "      <td>False</td>\n",
       "      <td>3.0</td>\n",
       "      <td>84</td>\n",
       "      <td>Kentucky</td>\n",
       "      <td>True</td>\n",
       "      <td>True</td>\n",
       "    </tr>\n",
       "    <tr>\n",
       "      <th>31</th>\n",
       "      <td>42374</td>\n",
       "      <td>M</td>\n",
       "      <td>NaN</td>\n",
       "      <td>7800</td>\n",
       "      <td>Never Married</td>\n",
       "      <td>True</td>\n",
       "      <td>Homeowner free and clear</td>\n",
       "      <td>False</td>\n",
       "      <td>1.0</td>\n",
       "      <td>65</td>\n",
       "      <td>Kentucky</td>\n",
       "      <td>True</td>\n",
       "      <td>True</td>\n",
       "    </tr>\n",
       "    <tr>\n",
       "      <th>33</th>\n",
       "      <td>46791</td>\n",
       "      <td>M</td>\n",
       "      <td>NaN</td>\n",
       "      <td>22700</td>\n",
       "      <td>Married</td>\n",
       "      <td>True</td>\n",
       "      <td>Homeowner free and clear</td>\n",
       "      <td>False</td>\n",
       "      <td>2.0</td>\n",
       "      <td>67</td>\n",
       "      <td>Oklahoma</td>\n",
       "      <td>True</td>\n",
       "      <td>True</td>\n",
       "    </tr>\n",
       "    <tr>\n",
       "      <th>36</th>\n",
       "      <td>49496</td>\n",
       "      <td>M</td>\n",
       "      <td>NaN</td>\n",
       "      <td>94400</td>\n",
       "      <td>Widowed</td>\n",
       "      <td>True</td>\n",
       "      <td>Homeowner free and clear</td>\n",
       "      <td>False</td>\n",
       "      <td>2.0</td>\n",
       "      <td>88</td>\n",
       "      <td>Wisconsin</td>\n",
       "      <td>True</td>\n",
       "      <td>True</td>\n",
       "    </tr>\n",
       "  </tbody>\n",
       "</table>\n",
       "</div>"
      ],
      "text/plain": [
       "    custid sex is.employed  income        marital.stat  health.ins  \\\n",
       "0     2068   F         NaN   11300             Married        True   \n",
       "7    14989   M         NaN    9400             Married        True   \n",
       "9    16551   F         NaN    7000             Married        True   \n",
       "15   25863   M         NaN   41000  Divorced/Separated        True   \n",
       "18   27214   M         NaN   18800             Married        True   \n",
       "28   38827   F         NaN    9700             Married        True   \n",
       "30   40449   M         NaN   13000             Married        True   \n",
       "31   42374   M         NaN    7800       Never Married        True   \n",
       "33   46791   M         NaN   22700             Married        True   \n",
       "36   49496   M         NaN   94400             Widowed        True   \n",
       "\n",
       "                    housing.type recent.move  num.vehicles  age state.of.res  \\\n",
       "0       Homeowner free and clear       False           2.0   49     Michigan   \n",
       "7                         Rented       False           2.0   44     Illinois   \n",
       "9   Homeowner with mortgage/loan       False           2.0   46      Georgia   \n",
       "15  Homeowner with mortgage/loan       False           1.0   70     Virginia   \n",
       "18      Homeowner free and clear       False           2.0   68         Ohio   \n",
       "28  Homeowner with mortgage/loan       False           2.0   72     Oklahoma   \n",
       "30      Homeowner free and clear       False           3.0   84     Kentucky   \n",
       "31      Homeowner free and clear       False           1.0   65     Kentucky   \n",
       "33      Homeowner free and clear       False           2.0   67     Oklahoma   \n",
       "36      Homeowner free and clear       False           2.0   88    Wisconsin   \n",
       "\n",
       "    is.employed_IS1  is.employed_IS2  \n",
       "0              True             True  \n",
       "7              True             True  \n",
       "9              True             True  \n",
       "15             True             True  \n",
       "18             True             True  \n",
       "28             True             True  \n",
       "30             True             True  \n",
       "31             True             True  \n",
       "33             True             True  \n",
       "36             True             True  "
      ]
     },
     "execution_count": 30,
     "metadata": {},
     "output_type": "execute_result"
    }
   ],
   "source": [
    "cust_employed_null[0:10]"
   ]
  },
  {
   "cell_type": "markdown",
   "metadata": {},
   "source": [
    "#### Note:\n",
    "\n",
    "* It seems persons who are old i.e. around 60 or more, and homeowners without mortgage have missing values in *is.employed* column. These could be because they are retirees and have an income from investments. So, we can fill *is.employed* as False. But before that let's look at those observations with *is.employed* as False."
   ]
  },
  {
   "cell_type": "markdown",
   "metadata": {},
   "source": [
    "### Is *is.employed* missing below a certain income level?"
   ]
  },
  {
   "cell_type": "code",
   "execution_count": 31,
   "metadata": {},
   "outputs": [
    {
     "data": {
      "text/html": [
       "<div>\n",
       "<style scoped>\n",
       "    .dataframe tbody tr th:only-of-type {\n",
       "        vertical-align: middle;\n",
       "    }\n",
       "\n",
       "    .dataframe tbody tr th {\n",
       "        vertical-align: top;\n",
       "    }\n",
       "\n",
       "    .dataframe thead th {\n",
       "        text-align: right;\n",
       "    }\n",
       "</style>\n",
       "<table border=\"1\" class=\"dataframe\">\n",
       "  <thead>\n",
       "    <tr style=\"text-align: right;\">\n",
       "      <th></th>\n",
       "      <th>custid</th>\n",
       "      <th>sex</th>\n",
       "      <th>is.employed</th>\n",
       "      <th>income</th>\n",
       "      <th>marital.stat</th>\n",
       "      <th>health.ins</th>\n",
       "      <th>housing.type</th>\n",
       "      <th>recent.move</th>\n",
       "      <th>num.vehicles</th>\n",
       "      <th>age</th>\n",
       "      <th>state.of.res</th>\n",
       "      <th>is.employed_IS1</th>\n",
       "      <th>is.employed_IS2</th>\n",
       "    </tr>\n",
       "  </thead>\n",
       "  <tbody>\n",
       "    <tr>\n",
       "      <th>50</th>\n",
       "      <td>68013</td>\n",
       "      <td>M</td>\n",
       "      <td>NaN</td>\n",
       "      <td>100</td>\n",
       "      <td>Divorced/Separated</td>\n",
       "      <td>False</td>\n",
       "      <td>NaN</td>\n",
       "      <td>NaN</td>\n",
       "      <td>NaN</td>\n",
       "      <td>28</td>\n",
       "      <td>California</td>\n",
       "      <td>True</td>\n",
       "      <td>True</td>\n",
       "    </tr>\n",
       "    <tr>\n",
       "      <th>117</th>\n",
       "      <td>158530</td>\n",
       "      <td>M</td>\n",
       "      <td>NaN</td>\n",
       "      <td>1400</td>\n",
       "      <td>Married</td>\n",
       "      <td>True</td>\n",
       "      <td>Homeowner with mortgage/loan</td>\n",
       "      <td>False</td>\n",
       "      <td>1.0</td>\n",
       "      <td>83</td>\n",
       "      <td>Texas</td>\n",
       "      <td>True</td>\n",
       "      <td>True</td>\n",
       "    </tr>\n",
       "    <tr>\n",
       "      <th>131</th>\n",
       "      <td>181385</td>\n",
       "      <td>F</td>\n",
       "      <td>NaN</td>\n",
       "      <td>290</td>\n",
       "      <td>Married</td>\n",
       "      <td>False</td>\n",
       "      <td>Homeowner free and clear</td>\n",
       "      <td>False</td>\n",
       "      <td>2.0</td>\n",
       "      <td>28</td>\n",
       "      <td>Wisconsin</td>\n",
       "      <td>True</td>\n",
       "      <td>True</td>\n",
       "    </tr>\n",
       "    <tr>\n",
       "      <th>178</th>\n",
       "      <td>259807</td>\n",
       "      <td>M</td>\n",
       "      <td>NaN</td>\n",
       "      <td>440</td>\n",
       "      <td>Married</td>\n",
       "      <td>True</td>\n",
       "      <td>NaN</td>\n",
       "      <td>NaN</td>\n",
       "      <td>NaN</td>\n",
       "      <td>49</td>\n",
       "      <td>West Virginia</td>\n",
       "      <td>True</td>\n",
       "      <td>True</td>\n",
       "    </tr>\n",
       "    <tr>\n",
       "      <th>182</th>\n",
       "      <td>268667</td>\n",
       "      <td>M</td>\n",
       "      <td>NaN</td>\n",
       "      <td>200</td>\n",
       "      <td>Never Married</td>\n",
       "      <td>True</td>\n",
       "      <td>NaN</td>\n",
       "      <td>NaN</td>\n",
       "      <td>NaN</td>\n",
       "      <td>31</td>\n",
       "      <td>Pennsylvania</td>\n",
       "      <td>True</td>\n",
       "      <td>True</td>\n",
       "    </tr>\n",
       "    <tr>\n",
       "      <th>433</th>\n",
       "      <td>668750</td>\n",
       "      <td>F</td>\n",
       "      <td>NaN</td>\n",
       "      <td>1200</td>\n",
       "      <td>Never Married</td>\n",
       "      <td>False</td>\n",
       "      <td>NaN</td>\n",
       "      <td>NaN</td>\n",
       "      <td>NaN</td>\n",
       "      <td>24</td>\n",
       "      <td>Texas</td>\n",
       "      <td>True</td>\n",
       "      <td>True</td>\n",
       "    </tr>\n",
       "    <tr>\n",
       "      <th>505</th>\n",
       "      <td>799565</td>\n",
       "      <td>M</td>\n",
       "      <td>NaN</td>\n",
       "      <td>1600</td>\n",
       "      <td>Never Married</td>\n",
       "      <td>False</td>\n",
       "      <td>NaN</td>\n",
       "      <td>NaN</td>\n",
       "      <td>NaN</td>\n",
       "      <td>23</td>\n",
       "      <td>Pennsylvania</td>\n",
       "      <td>True</td>\n",
       "      <td>True</td>\n",
       "    </tr>\n",
       "    <tr>\n",
       "      <th>541</th>\n",
       "      <td>846713</td>\n",
       "      <td>M</td>\n",
       "      <td>NaN</td>\n",
       "      <td>250</td>\n",
       "      <td>Never Married</td>\n",
       "      <td>True</td>\n",
       "      <td>NaN</td>\n",
       "      <td>NaN</td>\n",
       "      <td>NaN</td>\n",
       "      <td>45</td>\n",
       "      <td>Florida</td>\n",
       "      <td>True</td>\n",
       "      <td>True</td>\n",
       "    </tr>\n",
       "    <tr>\n",
       "      <th>581</th>\n",
       "      <td>892483</td>\n",
       "      <td>M</td>\n",
       "      <td>NaN</td>\n",
       "      <td>100</td>\n",
       "      <td>Married</td>\n",
       "      <td>True</td>\n",
       "      <td>Homeowner with mortgage/loan</td>\n",
       "      <td>False</td>\n",
       "      <td>3.0</td>\n",
       "      <td>68</td>\n",
       "      <td>Minnesota</td>\n",
       "      <td>True</td>\n",
       "      <td>True</td>\n",
       "    </tr>\n",
       "    <tr>\n",
       "      <th>671</th>\n",
       "      <td>1034979</td>\n",
       "      <td>F</td>\n",
       "      <td>NaN</td>\n",
       "      <td>750</td>\n",
       "      <td>Never Married</td>\n",
       "      <td>True</td>\n",
       "      <td>Rented</td>\n",
       "      <td>False</td>\n",
       "      <td>1.0</td>\n",
       "      <td>38</td>\n",
       "      <td>Indiana</td>\n",
       "      <td>True</td>\n",
       "      <td>True</td>\n",
       "    </tr>\n",
       "    <tr>\n",
       "      <th>678</th>\n",
       "      <td>1039209</td>\n",
       "      <td>M</td>\n",
       "      <td>NaN</td>\n",
       "      <td>1000</td>\n",
       "      <td>Married</td>\n",
       "      <td>True</td>\n",
       "      <td>Homeowner with mortgage/loan</td>\n",
       "      <td>False</td>\n",
       "      <td>4.0</td>\n",
       "      <td>59</td>\n",
       "      <td>Washington</td>\n",
       "      <td>True</td>\n",
       "      <td>True</td>\n",
       "    </tr>\n",
       "    <tr>\n",
       "      <th>685</th>\n",
       "      <td>1048652</td>\n",
       "      <td>F</td>\n",
       "      <td>NaN</td>\n",
       "      <td>1400</td>\n",
       "      <td>Divorced/Separated</td>\n",
       "      <td>True</td>\n",
       "      <td>Rented</td>\n",
       "      <td>True</td>\n",
       "      <td>1.0</td>\n",
       "      <td>77</td>\n",
       "      <td>Louisiana</td>\n",
       "      <td>True</td>\n",
       "      <td>True</td>\n",
       "    </tr>\n",
       "    <tr>\n",
       "      <th>903</th>\n",
       "      <td>1408913</td>\n",
       "      <td>F</td>\n",
       "      <td>NaN</td>\n",
       "      <td>1000</td>\n",
       "      <td>Married</td>\n",
       "      <td>True</td>\n",
       "      <td>Rented</td>\n",
       "      <td>False</td>\n",
       "      <td>0.0</td>\n",
       "      <td>60</td>\n",
       "      <td>Michigan</td>\n",
       "      <td>True</td>\n",
       "      <td>True</td>\n",
       "    </tr>\n",
       "  </tbody>\n",
       "</table>\n",
       "</div>"
      ],
      "text/plain": [
       "      custid sex is.employed  income        marital.stat  health.ins  \\\n",
       "50     68013   M         NaN     100  Divorced/Separated       False   \n",
       "117   158530   M         NaN    1400             Married        True   \n",
       "131   181385   F         NaN     290             Married       False   \n",
       "178   259807   M         NaN     440             Married        True   \n",
       "182   268667   M         NaN     200       Never Married        True   \n",
       "433   668750   F         NaN    1200       Never Married       False   \n",
       "505   799565   M         NaN    1600       Never Married       False   \n",
       "541   846713   M         NaN     250       Never Married        True   \n",
       "581   892483   M         NaN     100             Married        True   \n",
       "671  1034979   F         NaN     750       Never Married        True   \n",
       "678  1039209   M         NaN    1000             Married        True   \n",
       "685  1048652   F         NaN    1400  Divorced/Separated        True   \n",
       "903  1408913   F         NaN    1000             Married        True   \n",
       "\n",
       "                     housing.type recent.move  num.vehicles  age  \\\n",
       "50                            NaN         NaN           NaN   28   \n",
       "117  Homeowner with mortgage/loan       False           1.0   83   \n",
       "131      Homeowner free and clear       False           2.0   28   \n",
       "178                           NaN         NaN           NaN   49   \n",
       "182                           NaN         NaN           NaN   31   \n",
       "433                           NaN         NaN           NaN   24   \n",
       "505                           NaN         NaN           NaN   23   \n",
       "541                           NaN         NaN           NaN   45   \n",
       "581  Homeowner with mortgage/loan       False           3.0   68   \n",
       "671                        Rented       False           1.0   38   \n",
       "678  Homeowner with mortgage/loan       False           4.0   59   \n",
       "685                        Rented        True           1.0   77   \n",
       "903                        Rented       False           0.0   60   \n",
       "\n",
       "      state.of.res  is.employed_IS1  is.employed_IS2  \n",
       "50      California             True             True  \n",
       "117          Texas             True             True  \n",
       "131      Wisconsin             True             True  \n",
       "178  West Virginia             True             True  \n",
       "182   Pennsylvania             True             True  \n",
       "433          Texas             True             True  \n",
       "505   Pennsylvania             True             True  \n",
       "541        Florida             True             True  \n",
       "581      Minnesota             True             True  \n",
       "671        Indiana             True             True  \n",
       "678     Washington             True             True  \n",
       "685      Louisiana             True             True  \n",
       "903       Michigan             True             True  "
      ]
     },
     "execution_count": 31,
     "metadata": {},
     "output_type": "execute_result"
    }
   ],
   "source": [
    "cust_employed_null[cust_employed_null.income < 2000 ]"
   ]
  },
  {
   "cell_type": "markdown",
   "metadata": {},
   "source": [
    "### Custom function to populate missing values\n",
    "\n",
    "* This is just a sample program. The logic implemented here is only for demonstration. The logic can be customized as per the understanding of data and the best machanism to populate missing values."
   ]
  },
  {
   "cell_type": "code",
   "execution_count": 32,
   "metadata": {},
   "outputs": [],
   "source": [
    "import math \n",
    "\n",
    "def impute_is_employed( employed, age, income ):\n",
    "    \n",
    "    if not math.isnan( employed ):\n",
    "        return employed\n",
    "    else:\n",
    "        if age > 60:\n",
    "            return False\n",
    "        elif income > 2000:        \n",
    "            return True\n",
    "        else:\n",
    "            return False"
   ]
  },
  {
   "cell_type": "code",
   "execution_count": 33,
   "metadata": {},
   "outputs": [],
   "source": [
    "custdata[\"is.employed_IS3\"] = custdata.apply( lambda rec: \n",
    "                                             impute_is_employed( rec[\"is.employed\"],\n",
    "                                                                rec.age,\n",
    "                                                                rec.income ), \n",
    "                                             axis = 1 )"
   ]
  },
  {
   "cell_type": "code",
   "execution_count": 34,
   "metadata": {},
   "outputs": [
    {
     "data": {
      "text/html": [
       "<div>\n",
       "<style scoped>\n",
       "    .dataframe tbody tr th:only-of-type {\n",
       "        vertical-align: middle;\n",
       "    }\n",
       "\n",
       "    .dataframe tbody tr th {\n",
       "        vertical-align: top;\n",
       "    }\n",
       "\n",
       "    .dataframe thead th {\n",
       "        text-align: right;\n",
       "    }\n",
       "</style>\n",
       "<table border=\"1\" class=\"dataframe\">\n",
       "  <thead>\n",
       "    <tr style=\"text-align: right;\">\n",
       "      <th></th>\n",
       "      <th>age</th>\n",
       "      <th>income</th>\n",
       "      <th>is.employed</th>\n",
       "      <th>is.employed_IS3</th>\n",
       "    </tr>\n",
       "  </thead>\n",
       "  <tbody>\n",
       "    <tr>\n",
       "      <th>0</th>\n",
       "      <td>49</td>\n",
       "      <td>11300</td>\n",
       "      <td>NaN</td>\n",
       "      <td>True</td>\n",
       "    </tr>\n",
       "    <tr>\n",
       "      <th>1</th>\n",
       "      <td>22</td>\n",
       "      <td>4500</td>\n",
       "      <td>True</td>\n",
       "      <td>True</td>\n",
       "    </tr>\n",
       "    <tr>\n",
       "      <th>2</th>\n",
       "      <td>22</td>\n",
       "      <td>20000</td>\n",
       "      <td>True</td>\n",
       "      <td>True</td>\n",
       "    </tr>\n",
       "    <tr>\n",
       "      <th>3</th>\n",
       "      <td>31</td>\n",
       "      <td>12000</td>\n",
       "      <td>True</td>\n",
       "      <td>True</td>\n",
       "    </tr>\n",
       "    <tr>\n",
       "      <th>4</th>\n",
       "      <td>40</td>\n",
       "      <td>180000</td>\n",
       "      <td>True</td>\n",
       "      <td>True</td>\n",
       "    </tr>\n",
       "  </tbody>\n",
       "</table>\n",
       "</div>"
      ],
      "text/plain": [
       "   age  income is.employed  is.employed_IS3\n",
       "0   49   11300         NaN             True\n",
       "1   22    4500        True             True\n",
       "2   22   20000        True             True\n",
       "3   31   12000        True             True\n",
       "4   40  180000        True             True"
      ]
     },
     "execution_count": 34,
     "metadata": {},
     "output_type": "execute_result"
    }
   ],
   "source": [
    "custdata[[\"age\", \"income\", \"is.employed\", \"is.employed_IS3\"]].head( 5 )"
   ]
  },
  {
   "cell_type": "markdown",
   "metadata": {},
   "source": [
    "### Imputing Number of Vehicles\n",
    "\n",
    "* *num.vehicles* is a numerical variable and is a discrete variable. An imputation strategy of mean or median can be adopted for the missing values of this column."
   ]
  },
  {
   "cell_type": "code",
   "execution_count": 35,
   "metadata": {},
   "outputs": [],
   "source": [
    "custdata['numvehicles_IS1'] = custdata['num.vehicles'].fillna(0)"
   ]
  },
  {
   "cell_type": "code",
   "execution_count": 36,
   "metadata": {},
   "outputs": [
    {
     "data": {
      "text/html": [
       "<div>\n",
       "<style scoped>\n",
       "    .dataframe tbody tr th:only-of-type {\n",
       "        vertical-align: middle;\n",
       "    }\n",
       "\n",
       "    .dataframe tbody tr th {\n",
       "        vertical-align: top;\n",
       "    }\n",
       "\n",
       "    .dataframe thead th {\n",
       "        text-align: right;\n",
       "    }\n",
       "</style>\n",
       "<table border=\"1\" class=\"dataframe\">\n",
       "  <thead>\n",
       "    <tr style=\"text-align: right;\">\n",
       "      <th></th>\n",
       "      <th>custid</th>\n",
       "      <th>sex</th>\n",
       "      <th>is.employed</th>\n",
       "      <th>income</th>\n",
       "      <th>marital.stat</th>\n",
       "      <th>health.ins</th>\n",
       "      <th>housing.type</th>\n",
       "      <th>recent.move</th>\n",
       "      <th>num.vehicles</th>\n",
       "      <th>age</th>\n",
       "      <th>state.of.res</th>\n",
       "      <th>is.employed_IS1</th>\n",
       "      <th>is.employed_IS2</th>\n",
       "      <th>is.employed_IS3</th>\n",
       "      <th>numvehicles_IS1</th>\n",
       "    </tr>\n",
       "  </thead>\n",
       "  <tbody>\n",
       "    <tr>\n",
       "      <th>50</th>\n",
       "      <td>68013</td>\n",
       "      <td>M</td>\n",
       "      <td>NaN</td>\n",
       "      <td>100</td>\n",
       "      <td>Divorced/Separated</td>\n",
       "      <td>False</td>\n",
       "      <td>NaN</td>\n",
       "      <td>NaN</td>\n",
       "      <td>NaN</td>\n",
       "      <td>28</td>\n",
       "      <td>California</td>\n",
       "      <td>True</td>\n",
       "      <td>True</td>\n",
       "      <td>False</td>\n",
       "      <td>0.0</td>\n",
       "    </tr>\n",
       "    <tr>\n",
       "      <th>131</th>\n",
       "      <td>181385</td>\n",
       "      <td>F</td>\n",
       "      <td>NaN</td>\n",
       "      <td>290</td>\n",
       "      <td>Married</td>\n",
       "      <td>False</td>\n",
       "      <td>Homeowner free and clear</td>\n",
       "      <td>False</td>\n",
       "      <td>2.0</td>\n",
       "      <td>28</td>\n",
       "      <td>Wisconsin</td>\n",
       "      <td>True</td>\n",
       "      <td>True</td>\n",
       "      <td>False</td>\n",
       "      <td>2.0</td>\n",
       "    </tr>\n",
       "    <tr>\n",
       "      <th>178</th>\n",
       "      <td>259807</td>\n",
       "      <td>M</td>\n",
       "      <td>NaN</td>\n",
       "      <td>440</td>\n",
       "      <td>Married</td>\n",
       "      <td>True</td>\n",
       "      <td>NaN</td>\n",
       "      <td>NaN</td>\n",
       "      <td>NaN</td>\n",
       "      <td>49</td>\n",
       "      <td>West Virginia</td>\n",
       "      <td>True</td>\n",
       "      <td>True</td>\n",
       "      <td>False</td>\n",
       "      <td>0.0</td>\n",
       "    </tr>\n",
       "    <tr>\n",
       "      <th>182</th>\n",
       "      <td>268667</td>\n",
       "      <td>M</td>\n",
       "      <td>NaN</td>\n",
       "      <td>200</td>\n",
       "      <td>Never Married</td>\n",
       "      <td>True</td>\n",
       "      <td>NaN</td>\n",
       "      <td>NaN</td>\n",
       "      <td>NaN</td>\n",
       "      <td>31</td>\n",
       "      <td>Pennsylvania</td>\n",
       "      <td>True</td>\n",
       "      <td>True</td>\n",
       "      <td>False</td>\n",
       "      <td>0.0</td>\n",
       "    </tr>\n",
       "    <tr>\n",
       "      <th>293</th>\n",
       "      <td>456859</td>\n",
       "      <td>M</td>\n",
       "      <td>True</td>\n",
       "      <td>80</td>\n",
       "      <td>Never Married</td>\n",
       "      <td>True</td>\n",
       "      <td>NaN</td>\n",
       "      <td>NaN</td>\n",
       "      <td>NaN</td>\n",
       "      <td>18</td>\n",
       "      <td>California</td>\n",
       "      <td>True</td>\n",
       "      <td>True</td>\n",
       "      <td>True</td>\n",
       "      <td>0.0</td>\n",
       "    </tr>\n",
       "  </tbody>\n",
       "</table>\n",
       "</div>"
      ],
      "text/plain": [
       "     custid sex is.employed  income        marital.stat  health.ins  \\\n",
       "50    68013   M         NaN     100  Divorced/Separated       False   \n",
       "131  181385   F         NaN     290             Married       False   \n",
       "178  259807   M         NaN     440             Married        True   \n",
       "182  268667   M         NaN     200       Never Married        True   \n",
       "293  456859   M        True      80       Never Married        True   \n",
       "\n",
       "                 housing.type recent.move  num.vehicles  age   state.of.res  \\\n",
       "50                        NaN         NaN           NaN   28     California   \n",
       "131  Homeowner free and clear       False           2.0   28      Wisconsin   \n",
       "178                       NaN         NaN           NaN   49  West Virginia   \n",
       "182                       NaN         NaN           NaN   31   Pennsylvania   \n",
       "293                       NaN         NaN           NaN   18     California   \n",
       "\n",
       "     is.employed_IS1  is.employed_IS2  is.employed_IS3  numvehicles_IS1  \n",
       "50              True             True            False              0.0  \n",
       "131             True             True            False              2.0  \n",
       "178             True             True            False              0.0  \n",
       "182             True             True            False              0.0  \n",
       "293             True             True             True              0.0  "
      ]
     },
     "execution_count": 36,
     "metadata": {},
     "output_type": "execute_result"
    }
   ],
   "source": [
    "custdata[custdata.income < 1000 ][0:5]"
   ]
  },
  {
   "cell_type": "markdown",
   "metadata": {
    "collapsed": true
   },
   "source": [
    "### Using KNN Imputation Strategy\n",
    "\n",
    "* Using KNN, the missing data can be filled using nearest neighbourhood observations. The nearest neighbours can be found using available values in other columns. For example, we can compute the missing num_vehicles by using income, age, housing.type etc. "
   ]
  },
  {
   "cell_type": "code",
   "execution_count": 37,
   "metadata": {},
   "outputs": [],
   "source": [
    "from sklearn.impute import KNNImputer"
   ]
  },
  {
   "cell_type": "code",
   "execution_count": 58,
   "metadata": {},
   "outputs": [],
   "source": [
    "num_vehicle_df = custdata[['age', 'income', 'num.vehicles']]"
   ]
  },
  {
   "cell_type": "markdown",
   "metadata": {},
   "source": [
    "For example, let's say number of vehicles can be determined by age and income. The missing values can be determined using age and income fields. If persons with similar age and income having cars, then the missing values can be imputed to similar number of cars. "
   ]
  },
  {
   "cell_type": "code",
   "execution_count": 59,
   "metadata": {},
   "outputs": [],
   "source": [
    "knn_imputer = KNNImputer(n_neighbors=5)"
   ]
  },
  {
   "cell_type": "code",
   "execution_count": 60,
   "metadata": {},
   "outputs": [],
   "source": [
    "num_vehicle_df['numvehicles_IS2'] = knn_imputer.fit_transform(num_vehicle_df)[:, 2]"
   ]
  },
  {
   "cell_type": "code",
   "execution_count": 61,
   "metadata": {},
   "outputs": [],
   "source": [
    "custdata['numvehicles_IS2'] = np.round(num_vehicle_df['numvehicles_IS2'], 0)"
   ]
  },
  {
   "cell_type": "code",
   "execution_count": 63,
   "metadata": {},
   "outputs": [
    {
     "data": {
      "text/html": [
       "<div>\n",
       "<style scoped>\n",
       "    .dataframe tbody tr th:only-of-type {\n",
       "        vertical-align: middle;\n",
       "    }\n",
       "\n",
       "    .dataframe tbody tr th {\n",
       "        vertical-align: top;\n",
       "    }\n",
       "\n",
       "    .dataframe thead th {\n",
       "        text-align: right;\n",
       "    }\n",
       "</style>\n",
       "<table border=\"1\" class=\"dataframe\">\n",
       "  <thead>\n",
       "    <tr style=\"text-align: right;\">\n",
       "      <th></th>\n",
       "      <th>age</th>\n",
       "      <th>income</th>\n",
       "      <th>num.vehicles</th>\n",
       "      <th>numvehicles_IS2</th>\n",
       "    </tr>\n",
       "  </thead>\n",
       "  <tbody>\n",
       "    <tr>\n",
       "      <th>766</th>\n",
       "      <td>26</td>\n",
       "      <td>7200</td>\n",
       "      <td>NaN</td>\n",
       "      <td>2.0</td>\n",
       "    </tr>\n",
       "    <tr>\n",
       "      <th>816</th>\n",
       "      <td>20</td>\n",
       "      <td>8000</td>\n",
       "      <td>NaN</td>\n",
       "      <td>1.0</td>\n",
       "    </tr>\n",
       "    <tr>\n",
       "      <th>245</th>\n",
       "      <td>55</td>\n",
       "      <td>24800</td>\n",
       "      <td>NaN</td>\n",
       "      <td>2.0</td>\n",
       "    </tr>\n",
       "    <tr>\n",
       "      <th>433</th>\n",
       "      <td>24</td>\n",
       "      <td>1200</td>\n",
       "      <td>NaN</td>\n",
       "      <td>2.0</td>\n",
       "    </tr>\n",
       "    <tr>\n",
       "      <th>16</th>\n",
       "      <td>28</td>\n",
       "      <td>30000</td>\n",
       "      <td>NaN</td>\n",
       "      <td>2.0</td>\n",
       "    </tr>\n",
       "  </tbody>\n",
       "</table>\n",
       "</div>"
      ],
      "text/plain": [
       "     age  income  num.vehicles  numvehicles_IS2\n",
       "766   26    7200           NaN              2.0\n",
       "816   20    8000           NaN              1.0\n",
       "245   55   24800           NaN              2.0\n",
       "433   24    1200           NaN              2.0\n",
       "16    28   30000           NaN              2.0"
      ]
     },
     "execution_count": 63,
     "metadata": {},
     "output_type": "execute_result"
    }
   ],
   "source": [
    "custdata[custdata['num.vehicles'].isnull()][['age', \n",
    "                                             'income',\n",
    "                                             'num.vehicles', \n",
    "                                             'numvehicles_IS2']].sample(5)"
   ]
  },
  {
   "cell_type": "markdown",
   "metadata": {},
   "source": [
    "## Encoding Categorical Features"
   ]
  },
  {
   "cell_type": "markdown",
   "metadata": {},
   "source": [
    "* Categorical features need to be represented as numerical values before it can be used in buidling a model. Pandas has **get_dummies()** function to create these features. Each category present in the categorical variable need to converted into a feature."
   ]
  },
  {
   "cell_type": "code",
   "execution_count": 64,
   "metadata": {},
   "outputs": [
    {
     "data": {
      "text/plain": [
       "array(['F', 'M'], dtype=object)"
      ]
     },
     "execution_count": 64,
     "metadata": {},
     "output_type": "execute_result"
    }
   ],
   "source": [
    "pd.unique( custdata.sex )"
   ]
  },
  {
   "cell_type": "code",
   "execution_count": 65,
   "metadata": {},
   "outputs": [],
   "source": [
    "custdata = pd.get_dummies( custdata, columns = ['sex'], drop_first = True )"
   ]
  },
  {
   "cell_type": "code",
   "execution_count": 66,
   "metadata": {},
   "outputs": [
    {
     "data": {
      "text/html": [
       "<div>\n",
       "<style scoped>\n",
       "    .dataframe tbody tr th:only-of-type {\n",
       "        vertical-align: middle;\n",
       "    }\n",
       "\n",
       "    .dataframe tbody tr th {\n",
       "        vertical-align: top;\n",
       "    }\n",
       "\n",
       "    .dataframe thead th {\n",
       "        text-align: right;\n",
       "    }\n",
       "</style>\n",
       "<table border=\"1\" class=\"dataframe\">\n",
       "  <thead>\n",
       "    <tr style=\"text-align: right;\">\n",
       "      <th></th>\n",
       "      <th>custid</th>\n",
       "      <th>is.employed</th>\n",
       "      <th>income</th>\n",
       "      <th>marital.stat</th>\n",
       "      <th>health.ins</th>\n",
       "      <th>housing.type</th>\n",
       "      <th>recent.move</th>\n",
       "      <th>num.vehicles</th>\n",
       "      <th>age</th>\n",
       "      <th>state.of.res</th>\n",
       "      <th>is.employed_IS1</th>\n",
       "      <th>is.employed_IS2</th>\n",
       "      <th>is.employed_IS3</th>\n",
       "      <th>numvehicles_IS1</th>\n",
       "      <th>numvehicles_IS2</th>\n",
       "      <th>sex_M</th>\n",
       "    </tr>\n",
       "  </thead>\n",
       "  <tbody>\n",
       "    <tr>\n",
       "      <th>0</th>\n",
       "      <td>2068</td>\n",
       "      <td>NaN</td>\n",
       "      <td>11300</td>\n",
       "      <td>Married</td>\n",
       "      <td>True</td>\n",
       "      <td>Homeowner free and clear</td>\n",
       "      <td>False</td>\n",
       "      <td>2.0</td>\n",
       "      <td>49</td>\n",
       "      <td>Michigan</td>\n",
       "      <td>True</td>\n",
       "      <td>True</td>\n",
       "      <td>True</td>\n",
       "      <td>2.0</td>\n",
       "      <td>2.0</td>\n",
       "      <td>0</td>\n",
       "    </tr>\n",
       "    <tr>\n",
       "      <th>1</th>\n",
       "      <td>2848</td>\n",
       "      <td>True</td>\n",
       "      <td>4500</td>\n",
       "      <td>Never Married</td>\n",
       "      <td>False</td>\n",
       "      <td>Rented</td>\n",
       "      <td>True</td>\n",
       "      <td>3.0</td>\n",
       "      <td>22</td>\n",
       "      <td>Georgia</td>\n",
       "      <td>True</td>\n",
       "      <td>True</td>\n",
       "      <td>True</td>\n",
       "      <td>3.0</td>\n",
       "      <td>3.0</td>\n",
       "      <td>1</td>\n",
       "    </tr>\n",
       "    <tr>\n",
       "      <th>2</th>\n",
       "      <td>5641</td>\n",
       "      <td>True</td>\n",
       "      <td>20000</td>\n",
       "      <td>Never Married</td>\n",
       "      <td>False</td>\n",
       "      <td>Occupied with no rent</td>\n",
       "      <td>False</td>\n",
       "      <td>0.0</td>\n",
       "      <td>22</td>\n",
       "      <td>New Mexico</td>\n",
       "      <td>True</td>\n",
       "      <td>True</td>\n",
       "      <td>True</td>\n",
       "      <td>0.0</td>\n",
       "      <td>0.0</td>\n",
       "      <td>1</td>\n",
       "    </tr>\n",
       "    <tr>\n",
       "      <th>3</th>\n",
       "      <td>6369</td>\n",
       "      <td>True</td>\n",
       "      <td>12000</td>\n",
       "      <td>Never Married</td>\n",
       "      <td>True</td>\n",
       "      <td>Rented</td>\n",
       "      <td>True</td>\n",
       "      <td>1.0</td>\n",
       "      <td>31</td>\n",
       "      <td>Florida</td>\n",
       "      <td>True</td>\n",
       "      <td>True</td>\n",
       "      <td>True</td>\n",
       "      <td>1.0</td>\n",
       "      <td>1.0</td>\n",
       "      <td>0</td>\n",
       "    </tr>\n",
       "    <tr>\n",
       "      <th>4</th>\n",
       "      <td>8322</td>\n",
       "      <td>True</td>\n",
       "      <td>180000</td>\n",
       "      <td>Never Married</td>\n",
       "      <td>True</td>\n",
       "      <td>Homeowner with mortgage/loan</td>\n",
       "      <td>False</td>\n",
       "      <td>1.0</td>\n",
       "      <td>40</td>\n",
       "      <td>New York</td>\n",
       "      <td>True</td>\n",
       "      <td>True</td>\n",
       "      <td>True</td>\n",
       "      <td>1.0</td>\n",
       "      <td>1.0</td>\n",
       "      <td>0</td>\n",
       "    </tr>\n",
       "  </tbody>\n",
       "</table>\n",
       "</div>"
      ],
      "text/plain": [
       "   custid is.employed  income   marital.stat  health.ins  \\\n",
       "0    2068         NaN   11300        Married        True   \n",
       "1    2848        True    4500  Never Married       False   \n",
       "2    5641        True   20000  Never Married       False   \n",
       "3    6369        True   12000  Never Married        True   \n",
       "4    8322        True  180000  Never Married        True   \n",
       "\n",
       "                   housing.type recent.move  num.vehicles  age state.of.res  \\\n",
       "0      Homeowner free and clear       False           2.0   49     Michigan   \n",
       "1                        Rented        True           3.0   22      Georgia   \n",
       "2         Occupied with no rent       False           0.0   22   New Mexico   \n",
       "3                        Rented        True           1.0   31      Florida   \n",
       "4  Homeowner with mortgage/loan       False           1.0   40     New York   \n",
       "\n",
       "   is.employed_IS1  is.employed_IS2  is.employed_IS3  numvehicles_IS1  \\\n",
       "0             True             True             True              2.0   \n",
       "1             True             True             True              3.0   \n",
       "2             True             True             True              0.0   \n",
       "3             True             True             True              1.0   \n",
       "4             True             True             True              1.0   \n",
       "\n",
       "   numvehicles_IS2  sex_M  \n",
       "0              2.0      0  \n",
       "1              3.0      1  \n",
       "2              0.0      1  \n",
       "3              1.0      0  \n",
       "4              1.0      0  "
      ]
     },
     "execution_count": 66,
     "metadata": {},
     "output_type": "execute_result"
    }
   ],
   "source": [
    "custdata[0:5]"
   ]
  },
  {
   "cell_type": "code",
   "execution_count": 67,
   "metadata": {},
   "outputs": [
    {
     "data": {
      "text/plain": [
       "array(['Married', 'Never Married', 'Divorced/Separated', 'Widowed'],\n",
       "      dtype=object)"
      ]
     },
     "execution_count": 67,
     "metadata": {},
     "output_type": "execute_result"
    }
   ],
   "source": [
    "pd.unique( custdata[\"marital.stat\"] )"
   ]
  },
  {
   "cell_type": "code",
   "execution_count": 68,
   "metadata": {},
   "outputs": [
    {
     "data": {
      "text/html": [
       "<div>\n",
       "<style scoped>\n",
       "    .dataframe tbody tr th:only-of-type {\n",
       "        vertical-align: middle;\n",
       "    }\n",
       "\n",
       "    .dataframe tbody tr th {\n",
       "        vertical-align: top;\n",
       "    }\n",
       "\n",
       "    .dataframe thead th {\n",
       "        text-align: right;\n",
       "    }\n",
       "</style>\n",
       "<table border=\"1\" class=\"dataframe\">\n",
       "  <thead>\n",
       "    <tr style=\"text-align: right;\">\n",
       "      <th></th>\n",
       "      <th>custid</th>\n",
       "      <th>is.employed</th>\n",
       "      <th>income</th>\n",
       "      <th>health.ins</th>\n",
       "      <th>housing.type</th>\n",
       "      <th>recent.move</th>\n",
       "      <th>num.vehicles</th>\n",
       "      <th>age</th>\n",
       "      <th>state.of.res</th>\n",
       "      <th>is.employed_IS1</th>\n",
       "      <th>is.employed_IS2</th>\n",
       "      <th>is.employed_IS3</th>\n",
       "      <th>numvehicles_IS1</th>\n",
       "      <th>numvehicles_IS2</th>\n",
       "      <th>sex_M</th>\n",
       "      <th>marital.stat_Divorced/Separated</th>\n",
       "      <th>marital.stat_Married</th>\n",
       "      <th>marital.stat_Never Married</th>\n",
       "      <th>marital.stat_Widowed</th>\n",
       "    </tr>\n",
       "  </thead>\n",
       "  <tbody>\n",
       "    <tr>\n",
       "      <th>0</th>\n",
       "      <td>2068</td>\n",
       "      <td>NaN</td>\n",
       "      <td>11300</td>\n",
       "      <td>True</td>\n",
       "      <td>Homeowner free and clear</td>\n",
       "      <td>False</td>\n",
       "      <td>2.0</td>\n",
       "      <td>49</td>\n",
       "      <td>Michigan</td>\n",
       "      <td>True</td>\n",
       "      <td>True</td>\n",
       "      <td>True</td>\n",
       "      <td>2.0</td>\n",
       "      <td>2.0</td>\n",
       "      <td>0</td>\n",
       "      <td>0</td>\n",
       "      <td>1</td>\n",
       "      <td>0</td>\n",
       "      <td>0</td>\n",
       "    </tr>\n",
       "    <tr>\n",
       "      <th>1</th>\n",
       "      <td>2848</td>\n",
       "      <td>True</td>\n",
       "      <td>4500</td>\n",
       "      <td>False</td>\n",
       "      <td>Rented</td>\n",
       "      <td>True</td>\n",
       "      <td>3.0</td>\n",
       "      <td>22</td>\n",
       "      <td>Georgia</td>\n",
       "      <td>True</td>\n",
       "      <td>True</td>\n",
       "      <td>True</td>\n",
       "      <td>3.0</td>\n",
       "      <td>3.0</td>\n",
       "      <td>1</td>\n",
       "      <td>0</td>\n",
       "      <td>0</td>\n",
       "      <td>1</td>\n",
       "      <td>0</td>\n",
       "    </tr>\n",
       "    <tr>\n",
       "      <th>2</th>\n",
       "      <td>5641</td>\n",
       "      <td>True</td>\n",
       "      <td>20000</td>\n",
       "      <td>False</td>\n",
       "      <td>Occupied with no rent</td>\n",
       "      <td>False</td>\n",
       "      <td>0.0</td>\n",
       "      <td>22</td>\n",
       "      <td>New Mexico</td>\n",
       "      <td>True</td>\n",
       "      <td>True</td>\n",
       "      <td>True</td>\n",
       "      <td>0.0</td>\n",
       "      <td>0.0</td>\n",
       "      <td>1</td>\n",
       "      <td>0</td>\n",
       "      <td>0</td>\n",
       "      <td>1</td>\n",
       "      <td>0</td>\n",
       "    </tr>\n",
       "    <tr>\n",
       "      <th>3</th>\n",
       "      <td>6369</td>\n",
       "      <td>True</td>\n",
       "      <td>12000</td>\n",
       "      <td>True</td>\n",
       "      <td>Rented</td>\n",
       "      <td>True</td>\n",
       "      <td>1.0</td>\n",
       "      <td>31</td>\n",
       "      <td>Florida</td>\n",
       "      <td>True</td>\n",
       "      <td>True</td>\n",
       "      <td>True</td>\n",
       "      <td>1.0</td>\n",
       "      <td>1.0</td>\n",
       "      <td>0</td>\n",
       "      <td>0</td>\n",
       "      <td>0</td>\n",
       "      <td>1</td>\n",
       "      <td>0</td>\n",
       "    </tr>\n",
       "    <tr>\n",
       "      <th>4</th>\n",
       "      <td>8322</td>\n",
       "      <td>True</td>\n",
       "      <td>180000</td>\n",
       "      <td>True</td>\n",
       "      <td>Homeowner with mortgage/loan</td>\n",
       "      <td>False</td>\n",
       "      <td>1.0</td>\n",
       "      <td>40</td>\n",
       "      <td>New York</td>\n",
       "      <td>True</td>\n",
       "      <td>True</td>\n",
       "      <td>True</td>\n",
       "      <td>1.0</td>\n",
       "      <td>1.0</td>\n",
       "      <td>0</td>\n",
       "      <td>0</td>\n",
       "      <td>0</td>\n",
       "      <td>1</td>\n",
       "      <td>0</td>\n",
       "    </tr>\n",
       "  </tbody>\n",
       "</table>\n",
       "</div>"
      ],
      "text/plain": [
       "   custid is.employed  income  health.ins                  housing.type  \\\n",
       "0    2068         NaN   11300        True      Homeowner free and clear   \n",
       "1    2848        True    4500       False                        Rented   \n",
       "2    5641        True   20000       False         Occupied with no rent   \n",
       "3    6369        True   12000        True                        Rented   \n",
       "4    8322        True  180000        True  Homeowner with mortgage/loan   \n",
       "\n",
       "  recent.move  num.vehicles  age state.of.res  is.employed_IS1  \\\n",
       "0       False           2.0   49     Michigan             True   \n",
       "1        True           3.0   22      Georgia             True   \n",
       "2       False           0.0   22   New Mexico             True   \n",
       "3        True           1.0   31      Florida             True   \n",
       "4       False           1.0   40     New York             True   \n",
       "\n",
       "   is.employed_IS2  is.employed_IS3  numvehicles_IS1  numvehicles_IS2  sex_M  \\\n",
       "0             True             True              2.0              2.0      0   \n",
       "1             True             True              3.0              3.0      1   \n",
       "2             True             True              0.0              0.0      1   \n",
       "3             True             True              1.0              1.0      0   \n",
       "4             True             True              1.0              1.0      0   \n",
       "\n",
       "   marital.stat_Divorced/Separated  marital.stat_Married  \\\n",
       "0                                0                     1   \n",
       "1                                0                     0   \n",
       "2                                0                     0   \n",
       "3                                0                     0   \n",
       "4                                0                     0   \n",
       "\n",
       "   marital.stat_Never Married  marital.stat_Widowed  \n",
       "0                           0                     0  \n",
       "1                           1                     0  \n",
       "2                           1                     0  \n",
       "3                           1                     0  \n",
       "4                           1                     0  "
      ]
     },
     "execution_count": 68,
     "metadata": {},
     "output_type": "execute_result"
    }
   ],
   "source": [
    "custdata = pd.get_dummies( custdata, columns = ['marital.stat'] )\n",
    "custdata[0:5]"
   ]
  },
  {
   "cell_type": "markdown",
   "metadata": {
    "collapsed": true
   },
   "source": [
    "## Transforming the Variables\n",
    "\n",
    "### Scaling or Normalizing the features\n",
    "\n",
    "* If the features are on different scale, they need to be brought into same sclae for comparison or some models may require the features to be represented on similar scales e.g. clustering.\n",
    "\n",
    "* Alternatively, the features can be normalized. Normalized values will always have a mean of 0 and standard deviation of 1.\n",
    "\n",
    "* The following steps show how to scale and normalize the data."
   ]
  },
  {
   "cell_type": "code",
   "execution_count": 71,
   "metadata": {},
   "outputs": [
    {
     "name": "stdout",
     "output_type": "stream",
     "text": [
      "<class 'pandas.core.frame.DataFrame'>\n",
      "RangeIndex: 910 entries, 0 to 909\n",
      "Data columns (total 19 columns):\n",
      " #   Column                           Non-Null Count  Dtype  \n",
      "---  ------                           --------------  -----  \n",
      " 0   custid                           910 non-null    int64  \n",
      " 1   is.employed                      655 non-null    object \n",
      " 2   income                           910 non-null    float64\n",
      " 3   health.ins                       910 non-null    bool   \n",
      " 4   housing.type                     879 non-null    object \n",
      " 5   recent.move                      879 non-null    object \n",
      " 6   num.vehicles                     879 non-null    float64\n",
      " 7   age                              910 non-null    int64  \n",
      " 8   state.of.res                     910 non-null    object \n",
      " 9   is.employed_IS1                  910 non-null    bool   \n",
      " 10  is.employed_IS2                  910 non-null    bool   \n",
      " 11  is.employed_IS3                  910 non-null    bool   \n",
      " 12  numvehicles_IS1                  910 non-null    float64\n",
      " 13  numvehicles_IS2                  910 non-null    float64\n",
      " 14  sex_M                            910 non-null    uint8  \n",
      " 15  marital.stat_Divorced/Separated  910 non-null    uint8  \n",
      " 16  marital.stat_Married             910 non-null    uint8  \n",
      " 17  marital.stat_Never Married       910 non-null    uint8  \n",
      " 18  marital.stat_Widowed             910 non-null    uint8  \n",
      "dtypes: bool(4), float64(4), int64(2), object(4), uint8(5)\n",
      "memory usage: 79.2+ KB\n"
     ]
    }
   ],
   "source": [
    "custdata.info()"
   ]
  },
  {
   "cell_type": "code",
   "execution_count": 72,
   "metadata": {},
   "outputs": [
    {
     "data": {
      "text/plain": [
       "array([[-0.70342085, -0.16341185],\n",
       "       [-0.80654424, -1.71062921],\n",
       "       [-0.57148357, -1.71062921],\n",
       "       ...,\n",
       "       [-0.2909273 , -1.30949878],\n",
       "       [-0.21661779,  2.07145768],\n",
       "       [-0.55783489, -0.90836835]])"
      ]
     },
     "execution_count": 72,
     "metadata": {},
     "output_type": "execute_result"
    }
   ],
   "source": [
    "from sklearn.preprocessing import StandardScaler, MinMaxScaler\n",
    "\n",
    "std_scaler = StandardScaler()\n",
    "std_scaler.fit_transform( custdata[['income', 'age']] )"
   ]
  },
  {
   "cell_type": "code",
   "execution_count": 73,
   "metadata": {},
   "outputs": [
    {
     "data": {
      "text/plain": [
       "array([[0.0183261 , 0.41333333],\n",
       "       [0.00726865, 0.05333333],\n",
       "       [0.03247313, 0.05333333],\n",
       "       ...,\n",
       "       [0.0625559 , 0.14666667],\n",
       "       [0.07052377, 0.93333333],\n",
       "       [0.03393661, 0.24      ]])"
      ]
     },
     "execution_count": 73,
     "metadata": {},
     "output_type": "execute_result"
    }
   ],
   "source": [
    "minmax_scaler = MinMaxScaler()\n",
    "minmax_scaler.fit_transform( custdata[['income', 'age']] )"
   ]
  },
  {
   "cell_type": "markdown",
   "metadata": {},
   "source": [
    "## Binning of Data\n",
    "\n",
    "* Sometimes a continuous variable may need to be binned into categories. And then the categories can be used build a model. For example, age. Sometimes it may make sense to divide the ages into ranges and then create categories like young, adult, midage & old. To understand that the spread of the variable need to be looked into and then bin into a specific number of categories. For example, income can be categorized into low-income, middle-income and high-income etc."
   ]
  },
  {
   "cell_type": "code",
   "execution_count": 75,
   "metadata": {},
   "outputs": [
    {
     "data": {
      "text/plain": [
       "<matplotlib.collections.PathCollection at 0x7fb053eb12b0>"
      ]
     },
     "execution_count": 75,
     "metadata": {},
     "output_type": "execute_result"
    },
    {
     "data": {
      "image/png": "[encoded data removed]",
      "text/plain": [
       "<Figure size 432x288 with 1 Axes>"
      ]
     },
     "metadata": {
      "needs_background": "light"
     },
     "output_type": "display_data"
    }
   ],
   "source": [
    "plt.scatter( custdata.age, custdata.income )"
   ]
  },
  {
   "cell_type": "code",
   "execution_count": 76,
   "metadata": {},
   "outputs": [
    {
     "data": {
      "text/plain": [
       "<AxesSubplot:xlabel='age', ylabel='Density'>"
      ]
     },
     "execution_count": 76,
     "metadata": {},
     "output_type": "execute_result"
    },
    {
     "data": {
      "image/png": "[encoded data removed]",
      "text/plain": [
       "<Figure size 720x432 with 1 Axes>"
      ]
     },
     "metadata": {},
     "output_type": "display_data"
    }
   ],
   "source": [
    "sn.set(rc={\"figure.figsize\": (10, 6)}); \n",
    "sn.distplot( custdata.age )"
   ]
  },
  {
   "cell_type": "code",
   "execution_count": 77,
   "metadata": {},
   "outputs": [],
   "source": [
    "bins = [0,18, 35, 60,120]\n",
    "group_names = ['young', 'adult', 'midage', 'old']\n",
    "\n",
    "custdata['age_cat'] = pd.cut(custdata['age'], bins, labels=group_names)"
   ]
  },
  {
   "cell_type": "code",
   "execution_count": 78,
   "metadata": {},
   "outputs": [
    {
     "data": {
      "text/html": [
       "<div>\n",
       "<style scoped>\n",
       "    .dataframe tbody tr th:only-of-type {\n",
       "        vertical-align: middle;\n",
       "    }\n",
       "\n",
       "    .dataframe tbody tr th {\n",
       "        vertical-align: top;\n",
       "    }\n",
       "\n",
       "    .dataframe thead th {\n",
       "        text-align: right;\n",
       "    }\n",
       "</style>\n",
       "<table border=\"1\" class=\"dataframe\">\n",
       "  <thead>\n",
       "    <tr style=\"text-align: right;\">\n",
       "      <th></th>\n",
       "      <th>age</th>\n",
       "      <th>age_cat</th>\n",
       "    </tr>\n",
       "  </thead>\n",
       "  <tbody>\n",
       "    <tr>\n",
       "      <th>0</th>\n",
       "      <td>49</td>\n",
       "      <td>midage</td>\n",
       "    </tr>\n",
       "    <tr>\n",
       "      <th>1</th>\n",
       "      <td>22</td>\n",
       "      <td>adult</td>\n",
       "    </tr>\n",
       "    <tr>\n",
       "      <th>2</th>\n",
       "      <td>22</td>\n",
       "      <td>adult</td>\n",
       "    </tr>\n",
       "    <tr>\n",
       "      <th>3</th>\n",
       "      <td>31</td>\n",
       "      <td>adult</td>\n",
       "    </tr>\n",
       "    <tr>\n",
       "      <th>4</th>\n",
       "      <td>40</td>\n",
       "      <td>midage</td>\n",
       "    </tr>\n",
       "    <tr>\n",
       "      <th>5</th>\n",
       "      <td>39</td>\n",
       "      <td>midage</td>\n",
       "    </tr>\n",
       "    <tr>\n",
       "      <th>6</th>\n",
       "      <td>48</td>\n",
       "      <td>midage</td>\n",
       "    </tr>\n",
       "    <tr>\n",
       "      <th>7</th>\n",
       "      <td>44</td>\n",
       "      <td>midage</td>\n",
       "    </tr>\n",
       "    <tr>\n",
       "      <th>8</th>\n",
       "      <td>70</td>\n",
       "      <td>old</td>\n",
       "    </tr>\n",
       "    <tr>\n",
       "      <th>9</th>\n",
       "      <td>46</td>\n",
       "      <td>midage</td>\n",
       "    </tr>\n",
       "  </tbody>\n",
       "</table>\n",
       "</div>"
      ],
      "text/plain": [
       "   age age_cat\n",
       "0   49  midage\n",
       "1   22   adult\n",
       "2   22   adult\n",
       "3   31   adult\n",
       "4   40  midage\n",
       "5   39  midage\n",
       "6   48  midage\n",
       "7   44  midage\n",
       "8   70     old\n",
       "9   46  midage"
      ]
     },
     "execution_count": 78,
     "metadata": {},
     "output_type": "execute_result"
    }
   ],
   "source": [
    "custdata[[\"age\", \"age_cat\"]][0:10]"
   ]
  },
  {
   "cell_type": "code",
   "execution_count": 79,
   "metadata": {},
   "outputs": [],
   "source": [
    "custdata = pd.get_dummies(custdata, columns = ['age_cat'])"
   ]
  },
  {
   "cell_type": "code",
   "execution_count": 80,
   "metadata": {},
   "outputs": [
    {
     "data": {
      "text/html": [
       "<div>\n",
       "<style scoped>\n",
       "    .dataframe tbody tr th:only-of-type {\n",
       "        vertical-align: middle;\n",
       "    }\n",
       "\n",
       "    .dataframe tbody tr th {\n",
       "        vertical-align: top;\n",
       "    }\n",
       "\n",
       "    .dataframe thead th {\n",
       "        text-align: right;\n",
       "    }\n",
       "</style>\n",
       "<table border=\"1\" class=\"dataframe\">\n",
       "  <thead>\n",
       "    <tr style=\"text-align: right;\">\n",
       "      <th></th>\n",
       "      <th>custid</th>\n",
       "      <th>is.employed</th>\n",
       "      <th>income</th>\n",
       "      <th>health.ins</th>\n",
       "      <th>housing.type</th>\n",
       "      <th>recent.move</th>\n",
       "      <th>num.vehicles</th>\n",
       "      <th>age</th>\n",
       "      <th>state.of.res</th>\n",
       "      <th>is.employed_IS1</th>\n",
       "      <th>...</th>\n",
       "      <th>numvehicles_IS2</th>\n",
       "      <th>sex_M</th>\n",
       "      <th>marital.stat_Divorced/Separated</th>\n",
       "      <th>marital.stat_Married</th>\n",
       "      <th>marital.stat_Never Married</th>\n",
       "      <th>marital.stat_Widowed</th>\n",
       "      <th>age_cat_young</th>\n",
       "      <th>age_cat_adult</th>\n",
       "      <th>age_cat_midage</th>\n",
       "      <th>age_cat_old</th>\n",
       "    </tr>\n",
       "  </thead>\n",
       "  <tbody>\n",
       "    <tr>\n",
       "      <th>0</th>\n",
       "      <td>2068</td>\n",
       "      <td>NaN</td>\n",
       "      <td>11300.0</td>\n",
       "      <td>True</td>\n",
       "      <td>Homeowner free and clear</td>\n",
       "      <td>False</td>\n",
       "      <td>2.0</td>\n",
       "      <td>49</td>\n",
       "      <td>Michigan</td>\n",
       "      <td>True</td>\n",
       "      <td>...</td>\n",
       "      <td>2.0</td>\n",
       "      <td>0</td>\n",
       "      <td>0</td>\n",
       "      <td>1</td>\n",
       "      <td>0</td>\n",
       "      <td>0</td>\n",
       "      <td>0</td>\n",
       "      <td>0</td>\n",
       "      <td>1</td>\n",
       "      <td>0</td>\n",
       "    </tr>\n",
       "    <tr>\n",
       "      <th>1</th>\n",
       "      <td>2848</td>\n",
       "      <td>True</td>\n",
       "      <td>4500.0</td>\n",
       "      <td>False</td>\n",
       "      <td>Rented</td>\n",
       "      <td>True</td>\n",
       "      <td>3.0</td>\n",
       "      <td>22</td>\n",
       "      <td>Georgia</td>\n",
       "      <td>True</td>\n",
       "      <td>...</td>\n",
       "      <td>3.0</td>\n",
       "      <td>1</td>\n",
       "      <td>0</td>\n",
       "      <td>0</td>\n",
       "      <td>1</td>\n",
       "      <td>0</td>\n",
       "      <td>0</td>\n",
       "      <td>1</td>\n",
       "      <td>0</td>\n",
       "      <td>0</td>\n",
       "    </tr>\n",
       "    <tr>\n",
       "      <th>2</th>\n",
       "      <td>5641</td>\n",
       "      <td>True</td>\n",
       "      <td>20000.0</td>\n",
       "      <td>False</td>\n",
       "      <td>Occupied with no rent</td>\n",
       "      <td>False</td>\n",
       "      <td>0.0</td>\n",
       "      <td>22</td>\n",
       "      <td>New Mexico</td>\n",
       "      <td>True</td>\n",
       "      <td>...</td>\n",
       "      <td>0.0</td>\n",
       "      <td>1</td>\n",
       "      <td>0</td>\n",
       "      <td>0</td>\n",
       "      <td>1</td>\n",
       "      <td>0</td>\n",
       "      <td>0</td>\n",
       "      <td>1</td>\n",
       "      <td>0</td>\n",
       "      <td>0</td>\n",
       "    </tr>\n",
       "    <tr>\n",
       "      <th>3</th>\n",
       "      <td>6369</td>\n",
       "      <td>True</td>\n",
       "      <td>12000.0</td>\n",
       "      <td>True</td>\n",
       "      <td>Rented</td>\n",
       "      <td>True</td>\n",
       "      <td>1.0</td>\n",
       "      <td>31</td>\n",
       "      <td>Florida</td>\n",
       "      <td>True</td>\n",
       "      <td>...</td>\n",
       "      <td>1.0</td>\n",
       "      <td>0</td>\n",
       "      <td>0</td>\n",
       "      <td>0</td>\n",
       "      <td>1</td>\n",
       "      <td>0</td>\n",
       "      <td>0</td>\n",
       "      <td>1</td>\n",
       "      <td>0</td>\n",
       "      <td>0</td>\n",
       "    </tr>\n",
       "    <tr>\n",
       "      <th>4</th>\n",
       "      <td>8322</td>\n",
       "      <td>True</td>\n",
       "      <td>180000.0</td>\n",
       "      <td>True</td>\n",
       "      <td>Homeowner with mortgage/loan</td>\n",
       "      <td>False</td>\n",
       "      <td>1.0</td>\n",
       "      <td>40</td>\n",
       "      <td>New York</td>\n",
       "      <td>True</td>\n",
       "      <td>...</td>\n",
       "      <td>1.0</td>\n",
       "      <td>0</td>\n",
       "      <td>0</td>\n",
       "      <td>0</td>\n",
       "      <td>1</td>\n",
       "      <td>0</td>\n",
       "      <td>0</td>\n",
       "      <td>0</td>\n",
       "      <td>1</td>\n",
       "      <td>0</td>\n",
       "    </tr>\n",
       "    <tr>\n",
       "      <th>5</th>\n",
       "      <td>8521</td>\n",
       "      <td>True</td>\n",
       "      <td>120000.0</td>\n",
       "      <td>True</td>\n",
       "      <td>Homeowner free and clear</td>\n",
       "      <td>True</td>\n",
       "      <td>1.0</td>\n",
       "      <td>39</td>\n",
       "      <td>Idaho</td>\n",
       "      <td>True</td>\n",
       "      <td>...</td>\n",
       "      <td>1.0</td>\n",
       "      <td>1</td>\n",
       "      <td>0</td>\n",
       "      <td>0</td>\n",
       "      <td>1</td>\n",
       "      <td>0</td>\n",
       "      <td>0</td>\n",
       "      <td>0</td>\n",
       "      <td>1</td>\n",
       "      <td>0</td>\n",
       "    </tr>\n",
       "    <tr>\n",
       "      <th>6</th>\n",
       "      <td>12195</td>\n",
       "      <td>True</td>\n",
       "      <td>40000.0</td>\n",
       "      <td>True</td>\n",
       "      <td>Rented</td>\n",
       "      <td>False</td>\n",
       "      <td>3.0</td>\n",
       "      <td>48</td>\n",
       "      <td>Michigan</td>\n",
       "      <td>True</td>\n",
       "      <td>...</td>\n",
       "      <td>3.0</td>\n",
       "      <td>1</td>\n",
       "      <td>0</td>\n",
       "      <td>1</td>\n",
       "      <td>0</td>\n",
       "      <td>0</td>\n",
       "      <td>0</td>\n",
       "      <td>0</td>\n",
       "      <td>1</td>\n",
       "      <td>0</td>\n",
       "    </tr>\n",
       "    <tr>\n",
       "      <th>7</th>\n",
       "      <td>14989</td>\n",
       "      <td>NaN</td>\n",
       "      <td>9400.0</td>\n",
       "      <td>True</td>\n",
       "      <td>Rented</td>\n",
       "      <td>False</td>\n",
       "      <td>2.0</td>\n",
       "      <td>44</td>\n",
       "      <td>Illinois</td>\n",
       "      <td>True</td>\n",
       "      <td>...</td>\n",
       "      <td>2.0</td>\n",
       "      <td>1</td>\n",
       "      <td>0</td>\n",
       "      <td>1</td>\n",
       "      <td>0</td>\n",
       "      <td>0</td>\n",
       "      <td>0</td>\n",
       "      <td>0</td>\n",
       "      <td>1</td>\n",
       "      <td>0</td>\n",
       "    </tr>\n",
       "    <tr>\n",
       "      <th>8</th>\n",
       "      <td>15917</td>\n",
       "      <td>True</td>\n",
       "      <td>24000.0</td>\n",
       "      <td>True</td>\n",
       "      <td>Homeowner free and clear</td>\n",
       "      <td>False</td>\n",
       "      <td>1.0</td>\n",
       "      <td>70</td>\n",
       "      <td>North Carolina</td>\n",
       "      <td>True</td>\n",
       "      <td>...</td>\n",
       "      <td>1.0</td>\n",
       "      <td>0</td>\n",
       "      <td>1</td>\n",
       "      <td>0</td>\n",
       "      <td>0</td>\n",
       "      <td>0</td>\n",
       "      <td>0</td>\n",
       "      <td>0</td>\n",
       "      <td>0</td>\n",
       "      <td>1</td>\n",
       "    </tr>\n",
       "    <tr>\n",
       "      <th>9</th>\n",
       "      <td>16551</td>\n",
       "      <td>NaN</td>\n",
       "      <td>7000.0</td>\n",
       "      <td>True</td>\n",
       "      <td>Homeowner with mortgage/loan</td>\n",
       "      <td>False</td>\n",
       "      <td>2.0</td>\n",
       "      <td>46</td>\n",
       "      <td>Georgia</td>\n",
       "      <td>True</td>\n",
       "      <td>...</td>\n",
       "      <td>2.0</td>\n",
       "      <td>0</td>\n",
       "      <td>0</td>\n",
       "      <td>1</td>\n",
       "      <td>0</td>\n",
       "      <td>0</td>\n",
       "      <td>0</td>\n",
       "      <td>0</td>\n",
       "      <td>1</td>\n",
       "      <td>0</td>\n",
       "    </tr>\n",
       "  </tbody>\n",
       "</table>\n",
       "<p>10 rows × 23 columns</p>\n",
       "</div>"
      ],
      "text/plain": [
       "   custid is.employed    income  health.ins                  housing.type  \\\n",
       "0    2068         NaN   11300.0        True      Homeowner free and clear   \n",
       "1    2848        True    4500.0       False                        Rented   \n",
       "2    5641        True   20000.0       False         Occupied with no rent   \n",
       "3    6369        True   12000.0        True                        Rented   \n",
       "4    8322        True  180000.0        True  Homeowner with mortgage/loan   \n",
       "5    8521        True  120000.0        True      Homeowner free and clear   \n",
       "6   12195        True   40000.0        True                        Rented   \n",
       "7   14989         NaN    9400.0        True                        Rented   \n",
       "8   15917        True   24000.0        True      Homeowner free and clear   \n",
       "9   16551         NaN    7000.0        True  Homeowner with mortgage/loan   \n",
       "\n",
       "  recent.move  num.vehicles  age    state.of.res  is.employed_IS1  ...  \\\n",
       "0       False           2.0   49        Michigan             True  ...   \n",
       "1        True           3.0   22         Georgia             True  ...   \n",
       "2       False           0.0   22      New Mexico             True  ...   \n",
       "3        True           1.0   31         Florida             True  ...   \n",
       "4       False           1.0   40        New York             True  ...   \n",
       "5        True           1.0   39           Idaho             True  ...   \n",
       "6       False           3.0   48        Michigan             True  ...   \n",
       "7       False           2.0   44        Illinois             True  ...   \n",
       "8       False           1.0   70  North Carolina             True  ...   \n",
       "9       False           2.0   46         Georgia             True  ...   \n",
       "\n",
       "   numvehicles_IS2  sex_M  marital.stat_Divorced/Separated  \\\n",
       "0              2.0      0                                0   \n",
       "1              3.0      1                                0   \n",
       "2              0.0      1                                0   \n",
       "3              1.0      0                                0   \n",
       "4              1.0      0                                0   \n",
       "5              1.0      1                                0   \n",
       "6              3.0      1                                0   \n",
       "7              2.0      1                                0   \n",
       "8              1.0      0                                1   \n",
       "9              2.0      0                                0   \n",
       "\n",
       "   marital.stat_Married  marital.stat_Never Married  marital.stat_Widowed  \\\n",
       "0                     1                           0                     0   \n",
       "1                     0                           1                     0   \n",
       "2                     0                           1                     0   \n",
       "3                     0                           1                     0   \n",
       "4                     0                           1                     0   \n",
       "5                     0                           1                     0   \n",
       "6                     1                           0                     0   \n",
       "7                     1                           0                     0   \n",
       "8                     0                           0                     0   \n",
       "9                     1                           0                     0   \n",
       "\n",
       "   age_cat_young  age_cat_adult  age_cat_midage  age_cat_old  \n",
       "0              0              0               1            0  \n",
       "1              0              1               0            0  \n",
       "2              0              1               0            0  \n",
       "3              0              1               0            0  \n",
       "4              0              0               1            0  \n",
       "5              0              0               1            0  \n",
       "6              0              0               1            0  \n",
       "7              0              0               1            0  \n",
       "8              0              0               0            1  \n",
       "9              0              0               1            0  \n",
       "\n",
       "[10 rows x 23 columns]"
      ]
     },
     "execution_count": 80,
     "metadata": {},
     "output_type": "execute_result"
    }
   ],
   "source": [
    "custdata[0:10]"
   ]
  },
  {
   "cell_type": "code",
   "execution_count": 81,
   "metadata": {},
   "outputs": [
    {
     "data": {
      "text/plain": [
       "Index(['custid', 'is.employed', 'income', 'health.ins', 'housing.type',\n",
       "       'recent.move', 'num.vehicles', 'age', 'state.of.res', 'is.employed_IS1',\n",
       "       'is.employed_IS2', 'is.employed_IS3', 'numvehicles_IS1',\n",
       "       'numvehicles_IS2', 'sex_M', 'marital.stat_Divorced/Separated',\n",
       "       'marital.stat_Married', 'marital.stat_Never Married',\n",
       "       'marital.stat_Widowed', 'age_cat_young', 'age_cat_adult',\n",
       "       'age_cat_midage', 'age_cat_old'],\n",
       "      dtype='object')"
      ]
     },
     "execution_count": 81,
     "metadata": {},
     "output_type": "execute_result"
    }
   ],
   "source": [
    "custdata.columns"
   ]
  },
  {
   "cell_type": "markdown",
   "metadata": {},
   "source": [
    "# Exercise\n",
    "\n",
    "* Impute the variables houshing.type, recent.move using most_frequent strategy.\n",
    "* Transform categorical variables houshing.type, recent.move into numerical dummy feature.\n",
    "* Bin income column into three categories: low-income, mid-income and high-income."
   ]
  }
 ],
 "metadata": {
  "kernelspec": {
   "display_name": "Python 3",
   "language": "python",
   "name": "python3"
  },
  "language_info": {
   "codemirror_mode": {
    "name": "ipython",
    "version": 3
   },
   "file_extension": ".py",
   "mimetype": "text/x-python",
   "name": "python",
   "nbconvert_exporter": "python",
   "pygments_lexer": "ipython3",
   "version": "3.8.5"
  }
 },
 "nbformat": 4,
 "nbformat_minor": 1
}
